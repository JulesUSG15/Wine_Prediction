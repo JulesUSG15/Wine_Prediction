{
 "cells": [
  {
   "cell_type": "markdown",
   "metadata": {},
   "source": [
    "# Wine quality prediction with a Dense Network (DNN)\n",
    "\n",
    "## Objectives  :\n",
    "- Predict the quality of wines, based on their analysis\n",
    "- Understanting the principal and the architecture of a regression with a dense neural network with backup and restore of the trained model.\n",
    "\n",
    "The Wine Quality datasets are made up of analyses of a large number of wines, with an associated quality (betwenn 0 and 10).\n",
    "This dataset is provide by :\n",
    "Paulo Cortez, University of Minho, Guimaräes, Portugal\n"
   ]
  },
  {
   "cell_type": "code",
   "execution_count": 1,
   "metadata": {},
   "outputs": [
    {
     "name": "stderr",
     "output_type": "stream",
     "text": [
      "2024-02-12 08:25:58.007622: I tensorflow/core/platform/cpu_feature_guard.cc:182] This TensorFlow binary is optimized to use available CPU instructions in performance-critical operations.\n",
      "To enable the following instructions: AVX2 FMA, in other operations, rebuild TensorFlow with the appropriate compiler flags.\n"
     ]
    }
   ],
   "source": [
    "import tensorflow as tf\n",
    "import numpy as np\n",
    "import matplotlib.pyplot as plt\n",
    "import pandas as pd\n",
    "import os,sys\n",
    "\n",
    "from IPython.display import Markdown\n",
    "from importlib import reload"
   ]
  },
  {
   "cell_type": "markdown",
   "metadata": {},
   "source": [
    "# Step 2 - Retrieve data"
   ]
  },
  {
   "cell_type": "code",
   "execution_count": 2,
   "metadata": {},
   "outputs": [
    {
     "data": {
      "text/html": [
       "<style type=\"text/css\">\n",
       "</style>\n",
       "<table id=\"T_13f68\">\n",
       "  <thead>\n",
       "    <tr>\n",
       "      <th class=\"blank level0\" >&nbsp;</th>\n",
       "      <th id=\"T_13f68_level0_col0\" class=\"col_heading level0 col0\" >fixed acidity</th>\n",
       "      <th id=\"T_13f68_level0_col1\" class=\"col_heading level0 col1\" >volatile acidity</th>\n",
       "      <th id=\"T_13f68_level0_col2\" class=\"col_heading level0 col2\" >citric acid</th>\n",
       "      <th id=\"T_13f68_level0_col3\" class=\"col_heading level0 col3\" >residual sugar</th>\n",
       "      <th id=\"T_13f68_level0_col4\" class=\"col_heading level0 col4\" >chlorides</th>\n",
       "      <th id=\"T_13f68_level0_col5\" class=\"col_heading level0 col5\" >free sulfur dioxide</th>\n",
       "      <th id=\"T_13f68_level0_col6\" class=\"col_heading level0 col6\" >total sulfur dioxide</th>\n",
       "      <th id=\"T_13f68_level0_col7\" class=\"col_heading level0 col7\" >density</th>\n",
       "      <th id=\"T_13f68_level0_col8\" class=\"col_heading level0 col8\" >pH</th>\n",
       "      <th id=\"T_13f68_level0_col9\" class=\"col_heading level0 col9\" >sulphates</th>\n",
       "      <th id=\"T_13f68_level0_col10\" class=\"col_heading level0 col10\" >alcohol</th>\n",
       "      <th id=\"T_13f68_level0_col11\" class=\"col_heading level0 col11\" >quality</th>\n",
       "    </tr>\n",
       "  </thead>\n",
       "  <tbody>\n",
       "    <tr>\n",
       "      <th id=\"T_13f68_level0_row0\" class=\"row_heading level0 row0\" >0</th>\n",
       "      <td id=\"T_13f68_row0_col0\" class=\"data row0 col0\" >7.40</td>\n",
       "      <td id=\"T_13f68_row0_col1\" class=\"data row0 col1\" >0.70</td>\n",
       "      <td id=\"T_13f68_row0_col2\" class=\"data row0 col2\" >0.00</td>\n",
       "      <td id=\"T_13f68_row0_col3\" class=\"data row0 col3\" >1.90</td>\n",
       "      <td id=\"T_13f68_row0_col4\" class=\"data row0 col4\" >0.08</td>\n",
       "      <td id=\"T_13f68_row0_col5\" class=\"data row0 col5\" >11.00</td>\n",
       "      <td id=\"T_13f68_row0_col6\" class=\"data row0 col6\" >34.00</td>\n",
       "      <td id=\"T_13f68_row0_col7\" class=\"data row0 col7\" >1.00</td>\n",
       "      <td id=\"T_13f68_row0_col8\" class=\"data row0 col8\" >3.51</td>\n",
       "      <td id=\"T_13f68_row0_col9\" class=\"data row0 col9\" >0.56</td>\n",
       "      <td id=\"T_13f68_row0_col10\" class=\"data row0 col10\" >9.40</td>\n",
       "      <td id=\"T_13f68_row0_col11\" class=\"data row0 col11\" >5.00</td>\n",
       "    </tr>\n",
       "    <tr>\n",
       "      <th id=\"T_13f68_level0_row1\" class=\"row_heading level0 row1\" >1</th>\n",
       "      <td id=\"T_13f68_row1_col0\" class=\"data row1 col0\" >7.80</td>\n",
       "      <td id=\"T_13f68_row1_col1\" class=\"data row1 col1\" >0.88</td>\n",
       "      <td id=\"T_13f68_row1_col2\" class=\"data row1 col2\" >0.00</td>\n",
       "      <td id=\"T_13f68_row1_col3\" class=\"data row1 col3\" >2.60</td>\n",
       "      <td id=\"T_13f68_row1_col4\" class=\"data row1 col4\" >0.10</td>\n",
       "      <td id=\"T_13f68_row1_col5\" class=\"data row1 col5\" >25.00</td>\n",
       "      <td id=\"T_13f68_row1_col6\" class=\"data row1 col6\" >67.00</td>\n",
       "      <td id=\"T_13f68_row1_col7\" class=\"data row1 col7\" >1.00</td>\n",
       "      <td id=\"T_13f68_row1_col8\" class=\"data row1 col8\" >3.20</td>\n",
       "      <td id=\"T_13f68_row1_col9\" class=\"data row1 col9\" >0.68</td>\n",
       "      <td id=\"T_13f68_row1_col10\" class=\"data row1 col10\" >9.80</td>\n",
       "      <td id=\"T_13f68_row1_col11\" class=\"data row1 col11\" >5.00</td>\n",
       "    </tr>\n",
       "    <tr>\n",
       "      <th id=\"T_13f68_level0_row2\" class=\"row_heading level0 row2\" >2</th>\n",
       "      <td id=\"T_13f68_row2_col0\" class=\"data row2 col0\" >7.80</td>\n",
       "      <td id=\"T_13f68_row2_col1\" class=\"data row2 col1\" >0.76</td>\n",
       "      <td id=\"T_13f68_row2_col2\" class=\"data row2 col2\" >0.04</td>\n",
       "      <td id=\"T_13f68_row2_col3\" class=\"data row2 col3\" >2.30</td>\n",
       "      <td id=\"T_13f68_row2_col4\" class=\"data row2 col4\" >0.09</td>\n",
       "      <td id=\"T_13f68_row2_col5\" class=\"data row2 col5\" >15.00</td>\n",
       "      <td id=\"T_13f68_row2_col6\" class=\"data row2 col6\" >54.00</td>\n",
       "      <td id=\"T_13f68_row2_col7\" class=\"data row2 col7\" >1.00</td>\n",
       "      <td id=\"T_13f68_row2_col8\" class=\"data row2 col8\" >3.26</td>\n",
       "      <td id=\"T_13f68_row2_col9\" class=\"data row2 col9\" >0.65</td>\n",
       "      <td id=\"T_13f68_row2_col10\" class=\"data row2 col10\" >9.80</td>\n",
       "      <td id=\"T_13f68_row2_col11\" class=\"data row2 col11\" >5.00</td>\n",
       "    </tr>\n",
       "    <tr>\n",
       "      <th id=\"T_13f68_level0_row3\" class=\"row_heading level0 row3\" >3</th>\n",
       "      <td id=\"T_13f68_row3_col0\" class=\"data row3 col0\" >11.20</td>\n",
       "      <td id=\"T_13f68_row3_col1\" class=\"data row3 col1\" >0.28</td>\n",
       "      <td id=\"T_13f68_row3_col2\" class=\"data row3 col2\" >0.56</td>\n",
       "      <td id=\"T_13f68_row3_col3\" class=\"data row3 col3\" >1.90</td>\n",
       "      <td id=\"T_13f68_row3_col4\" class=\"data row3 col4\" >0.07</td>\n",
       "      <td id=\"T_13f68_row3_col5\" class=\"data row3 col5\" >17.00</td>\n",
       "      <td id=\"T_13f68_row3_col6\" class=\"data row3 col6\" >60.00</td>\n",
       "      <td id=\"T_13f68_row3_col7\" class=\"data row3 col7\" >1.00</td>\n",
       "      <td id=\"T_13f68_row3_col8\" class=\"data row3 col8\" >3.16</td>\n",
       "      <td id=\"T_13f68_row3_col9\" class=\"data row3 col9\" >0.58</td>\n",
       "      <td id=\"T_13f68_row3_col10\" class=\"data row3 col10\" >9.80</td>\n",
       "      <td id=\"T_13f68_row3_col11\" class=\"data row3 col11\" >6.00</td>\n",
       "    </tr>\n",
       "    <tr>\n",
       "      <th id=\"T_13f68_level0_row4\" class=\"row_heading level0 row4\" >4</th>\n",
       "      <td id=\"T_13f68_row4_col0\" class=\"data row4 col0\" >7.40</td>\n",
       "      <td id=\"T_13f68_row4_col1\" class=\"data row4 col1\" >0.70</td>\n",
       "      <td id=\"T_13f68_row4_col2\" class=\"data row4 col2\" >0.00</td>\n",
       "      <td id=\"T_13f68_row4_col3\" class=\"data row4 col3\" >1.90</td>\n",
       "      <td id=\"T_13f68_row4_col4\" class=\"data row4 col4\" >0.08</td>\n",
       "      <td id=\"T_13f68_row4_col5\" class=\"data row4 col5\" >11.00</td>\n",
       "      <td id=\"T_13f68_row4_col6\" class=\"data row4 col6\" >34.00</td>\n",
       "      <td id=\"T_13f68_row4_col7\" class=\"data row4 col7\" >1.00</td>\n",
       "      <td id=\"T_13f68_row4_col8\" class=\"data row4 col8\" >3.51</td>\n",
       "      <td id=\"T_13f68_row4_col9\" class=\"data row4 col9\" >0.56</td>\n",
       "      <td id=\"T_13f68_row4_col10\" class=\"data row4 col10\" >9.40</td>\n",
       "      <td id=\"T_13f68_row4_col11\" class=\"data row4 col11\" >5.00</td>\n",
       "    </tr>\n",
       "  </tbody>\n",
       "</table>\n"
      ],
      "text/plain": [
       "<pandas.io.formats.style.Styler at 0x1658c3890>"
      ]
     },
     "metadata": {},
     "output_type": "display_data"
    },
    {
     "name": "stdout",
     "output_type": "stream",
     "text": [
      "Missing Data: 0  Shape is: (1599, 12)\n"
     ]
    }
   ],
   "source": [
    "data = pd.read_csv('winequality-red.csv', header =0, sep=';')\n",
    "display(data.head(5).style.format(\"{0:.2f}\"))\n",
    "print ('Missing Data:',data.isna().sum().sum(), ' Shape is:', data.shape)"
   ]
  },
  {
   "cell_type": "markdown",
   "metadata": {},
   "source": [
    "# Step 3 - Preparing the data\n",
    "\n",
    "## 3.1 - Split data\n",
    "\n",
    "We will use 80% of the data for training and 20% for validation.\n",
    "x will be the data of the analysis and y the quality."
   ]
  },
  {
   "cell_type": "code",
   "execution_count": 4,
   "metadata": {},
   "outputs": [
    {
     "name": "stdout",
     "output_type": "stream",
     "text": [
      "Original data shape was: (1599, 12)\n",
      "x_train: (1279, 11)  y_train: (1279,)\n",
      "x_test: (320, 11)  y_test: (320,)\n"
     ]
    }
   ],
   "source": [
    "# ------ split => train, test\n",
    "data = data.sample(frac=1., axis=0)\n",
    "data_train = data.sample(frac=0.8, axis=0)\n",
    "data_test = data.drop(data_train.index)\n",
    "\n",
    "# ------ split => x, y (y is quality)\n",
    "x_train = data_train.drop('quality', axis=1)\n",
    "y_train = data_train['quality']\n",
    "x_test = data_test.drop('quality', axis=1)\n",
    "y_test = data_test['quality']\n",
    "\n",
    "print ('Original data shape was:', data.shape)\n",
    "print ('x_train:', x_train.shape, ' y_train:', y_train.shape)\n",
    "print ('x_test:', x_test.shape, ' y_test:', y_test.shape)"
   ]
  },
  {
   "cell_type": "markdown",
   "metadata": {},
   "source": [
    "## 3.2 - Data normalization\n",
    "\n",
    "Note :\n",
    "\n",
    "- All input data muste be normalized, train and test.\n",
    "- To do this we will subtract the mean and divide by the standard deviation.\n",
    "- But test data should not be used in any way, even for normalization.\n",
    "- The mean and the standard deviation will therefore only be calculated with the train data."
   ]
  },
  {
   "cell_type": "code",
   "execution_count": 5,
   "metadata": {},
   "outputs": [
    {
     "data": {
      "text/html": [
       "<style type=\"text/css\">\n",
       "</style>\n",
       "<table id=\"T_a9339\">\n",
       "  <caption>Before Normalization : </caption>\n",
       "  <thead>\n",
       "    <tr>\n",
       "      <th class=\"blank level0\" >&nbsp;</th>\n",
       "      <th id=\"T_a9339_level0_col0\" class=\"col_heading level0 col0\" >fixed acidity</th>\n",
       "      <th id=\"T_a9339_level0_col1\" class=\"col_heading level0 col1\" >volatile acidity</th>\n",
       "      <th id=\"T_a9339_level0_col2\" class=\"col_heading level0 col2\" >citric acid</th>\n",
       "      <th id=\"T_a9339_level0_col3\" class=\"col_heading level0 col3\" >residual sugar</th>\n",
       "      <th id=\"T_a9339_level0_col4\" class=\"col_heading level0 col4\" >chlorides</th>\n",
       "      <th id=\"T_a9339_level0_col5\" class=\"col_heading level0 col5\" >free sulfur dioxide</th>\n",
       "      <th id=\"T_a9339_level0_col6\" class=\"col_heading level0 col6\" >total sulfur dioxide</th>\n",
       "      <th id=\"T_a9339_level0_col7\" class=\"col_heading level0 col7\" >density</th>\n",
       "      <th id=\"T_a9339_level0_col8\" class=\"col_heading level0 col8\" >pH</th>\n",
       "      <th id=\"T_a9339_level0_col9\" class=\"col_heading level0 col9\" >sulphates</th>\n",
       "      <th id=\"T_a9339_level0_col10\" class=\"col_heading level0 col10\" >alcohol</th>\n",
       "    </tr>\n",
       "  </thead>\n",
       "  <tbody>\n",
       "    <tr>\n",
       "      <th id=\"T_a9339_level0_row0\" class=\"row_heading level0 row0\" >count</th>\n",
       "      <td id=\"T_a9339_row0_col0\" class=\"data row0 col0\" >1279.00</td>\n",
       "      <td id=\"T_a9339_row0_col1\" class=\"data row0 col1\" >1279.00</td>\n",
       "      <td id=\"T_a9339_row0_col2\" class=\"data row0 col2\" >1279.00</td>\n",
       "      <td id=\"T_a9339_row0_col3\" class=\"data row0 col3\" >1279.00</td>\n",
       "      <td id=\"T_a9339_row0_col4\" class=\"data row0 col4\" >1279.00</td>\n",
       "      <td id=\"T_a9339_row0_col5\" class=\"data row0 col5\" >1279.00</td>\n",
       "      <td id=\"T_a9339_row0_col6\" class=\"data row0 col6\" >1279.00</td>\n",
       "      <td id=\"T_a9339_row0_col7\" class=\"data row0 col7\" >1279.00</td>\n",
       "      <td id=\"T_a9339_row0_col8\" class=\"data row0 col8\" >1279.00</td>\n",
       "      <td id=\"T_a9339_row0_col9\" class=\"data row0 col9\" >1279.00</td>\n",
       "      <td id=\"T_a9339_row0_col10\" class=\"data row0 col10\" >1279.00</td>\n",
       "    </tr>\n",
       "    <tr>\n",
       "      <th id=\"T_a9339_level0_row1\" class=\"row_heading level0 row1\" >mean</th>\n",
       "      <td id=\"T_a9339_row1_col0\" class=\"data row1 col0\" >8.33</td>\n",
       "      <td id=\"T_a9339_row1_col1\" class=\"data row1 col1\" >0.53</td>\n",
       "      <td id=\"T_a9339_row1_col2\" class=\"data row1 col2\" >0.27</td>\n",
       "      <td id=\"T_a9339_row1_col3\" class=\"data row1 col3\" >2.54</td>\n",
       "      <td id=\"T_a9339_row1_col4\" class=\"data row1 col4\" >0.09</td>\n",
       "      <td id=\"T_a9339_row1_col5\" class=\"data row1 col5\" >15.73</td>\n",
       "      <td id=\"T_a9339_row1_col6\" class=\"data row1 col6\" >45.97</td>\n",
       "      <td id=\"T_a9339_row1_col7\" class=\"data row1 col7\" >1.00</td>\n",
       "      <td id=\"T_a9339_row1_col8\" class=\"data row1 col8\" >3.31</td>\n",
       "      <td id=\"T_a9339_row1_col9\" class=\"data row1 col9\" >0.66</td>\n",
       "      <td id=\"T_a9339_row1_col10\" class=\"data row1 col10\" >10.42</td>\n",
       "    </tr>\n",
       "    <tr>\n",
       "      <th id=\"T_a9339_level0_row2\" class=\"row_heading level0 row2\" >std</th>\n",
       "      <td id=\"T_a9339_row2_col0\" class=\"data row2 col0\" >1.75</td>\n",
       "      <td id=\"T_a9339_row2_col1\" class=\"data row2 col1\" >0.18</td>\n",
       "      <td id=\"T_a9339_row2_col2\" class=\"data row2 col2\" >0.19</td>\n",
       "      <td id=\"T_a9339_row2_col3\" class=\"data row2 col3\" >1.39</td>\n",
       "      <td id=\"T_a9339_row2_col4\" class=\"data row2 col4\" >0.05</td>\n",
       "      <td id=\"T_a9339_row2_col5\" class=\"data row2 col5\" >10.43</td>\n",
       "      <td id=\"T_a9339_row2_col6\" class=\"data row2 col6\" >32.17</td>\n",
       "      <td id=\"T_a9339_row2_col7\" class=\"data row2 col7\" >0.00</td>\n",
       "      <td id=\"T_a9339_row2_col8\" class=\"data row2 col8\" >0.16</td>\n",
       "      <td id=\"T_a9339_row2_col9\" class=\"data row2 col9\" >0.18</td>\n",
       "      <td id=\"T_a9339_row2_col10\" class=\"data row2 col10\" >1.07</td>\n",
       "    </tr>\n",
       "    <tr>\n",
       "      <th id=\"T_a9339_level0_row3\" class=\"row_heading level0 row3\" >min</th>\n",
       "      <td id=\"T_a9339_row3_col0\" class=\"data row3 col0\" >4.60</td>\n",
       "      <td id=\"T_a9339_row3_col1\" class=\"data row3 col1\" >0.12</td>\n",
       "      <td id=\"T_a9339_row3_col2\" class=\"data row3 col2\" >0.00</td>\n",
       "      <td id=\"T_a9339_row3_col3\" class=\"data row3 col3\" >0.90</td>\n",
       "      <td id=\"T_a9339_row3_col4\" class=\"data row3 col4\" >0.01</td>\n",
       "      <td id=\"T_a9339_row3_col5\" class=\"data row3 col5\" >1.00</td>\n",
       "      <td id=\"T_a9339_row3_col6\" class=\"data row3 col6\" >6.00</td>\n",
       "      <td id=\"T_a9339_row3_col7\" class=\"data row3 col7\" >0.99</td>\n",
       "      <td id=\"T_a9339_row3_col8\" class=\"data row3 col8\" >2.74</td>\n",
       "      <td id=\"T_a9339_row3_col9\" class=\"data row3 col9\" >0.33</td>\n",
       "      <td id=\"T_a9339_row3_col10\" class=\"data row3 col10\" >8.40</td>\n",
       "    </tr>\n",
       "    <tr>\n",
       "      <th id=\"T_a9339_level0_row4\" class=\"row_heading level0 row4\" >25%</th>\n",
       "      <td id=\"T_a9339_row4_col0\" class=\"data row4 col0\" >7.10</td>\n",
       "      <td id=\"T_a9339_row4_col1\" class=\"data row4 col1\" >0.39</td>\n",
       "      <td id=\"T_a9339_row4_col2\" class=\"data row4 col2\" >0.10</td>\n",
       "      <td id=\"T_a9339_row4_col3\" class=\"data row4 col3\" >1.90</td>\n",
       "      <td id=\"T_a9339_row4_col4\" class=\"data row4 col4\" >0.07</td>\n",
       "      <td id=\"T_a9339_row4_col5\" class=\"data row4 col5\" >7.00</td>\n",
       "      <td id=\"T_a9339_row4_col6\" class=\"data row4 col6\" >22.00</td>\n",
       "      <td id=\"T_a9339_row4_col7\" class=\"data row4 col7\" >1.00</td>\n",
       "      <td id=\"T_a9339_row4_col8\" class=\"data row4 col8\" >3.21</td>\n",
       "      <td id=\"T_a9339_row4_col9\" class=\"data row4 col9\" >0.55</td>\n",
       "      <td id=\"T_a9339_row4_col10\" class=\"data row4 col10\" >9.50</td>\n",
       "    </tr>\n",
       "    <tr>\n",
       "      <th id=\"T_a9339_level0_row5\" class=\"row_heading level0 row5\" >50%</th>\n",
       "      <td id=\"T_a9339_row5_col0\" class=\"data row5 col0\" >7.90</td>\n",
       "      <td id=\"T_a9339_row5_col1\" class=\"data row5 col1\" >0.52</td>\n",
       "      <td id=\"T_a9339_row5_col2\" class=\"data row5 col2\" >0.26</td>\n",
       "      <td id=\"T_a9339_row5_col3\" class=\"data row5 col3\" >2.20</td>\n",
       "      <td id=\"T_a9339_row5_col4\" class=\"data row5 col4\" >0.08</td>\n",
       "      <td id=\"T_a9339_row5_col5\" class=\"data row5 col5\" >13.00</td>\n",
       "      <td id=\"T_a9339_row5_col6\" class=\"data row5 col6\" >37.00</td>\n",
       "      <td id=\"T_a9339_row5_col7\" class=\"data row5 col7\" >1.00</td>\n",
       "      <td id=\"T_a9339_row5_col8\" class=\"data row5 col8\" >3.31</td>\n",
       "      <td id=\"T_a9339_row5_col9\" class=\"data row5 col9\" >0.62</td>\n",
       "      <td id=\"T_a9339_row5_col10\" class=\"data row5 col10\" >10.20</td>\n",
       "    </tr>\n",
       "    <tr>\n",
       "      <th id=\"T_a9339_level0_row6\" class=\"row_heading level0 row6\" >75%</th>\n",
       "      <td id=\"T_a9339_row6_col0\" class=\"data row6 col0\" >9.30</td>\n",
       "      <td id=\"T_a9339_row6_col1\" class=\"data row6 col1\" >0.64</td>\n",
       "      <td id=\"T_a9339_row6_col2\" class=\"data row6 col2\" >0.43</td>\n",
       "      <td id=\"T_a9339_row6_col3\" class=\"data row6 col3\" >2.60</td>\n",
       "      <td id=\"T_a9339_row6_col4\" class=\"data row6 col4\" >0.09</td>\n",
       "      <td id=\"T_a9339_row6_col5\" class=\"data row6 col5\" >21.00</td>\n",
       "      <td id=\"T_a9339_row6_col6\" class=\"data row6 col6\" >62.00</td>\n",
       "      <td id=\"T_a9339_row6_col7\" class=\"data row6 col7\" >1.00</td>\n",
       "      <td id=\"T_a9339_row6_col8\" class=\"data row6 col8\" >3.40</td>\n",
       "      <td id=\"T_a9339_row6_col9\" class=\"data row6 col9\" >0.74</td>\n",
       "      <td id=\"T_a9339_row6_col10\" class=\"data row6 col10\" >11.03</td>\n",
       "    </tr>\n",
       "    <tr>\n",
       "      <th id=\"T_a9339_level0_row7\" class=\"row_heading level0 row7\" >max</th>\n",
       "      <td id=\"T_a9339_row7_col0\" class=\"data row7 col0\" >15.90</td>\n",
       "      <td id=\"T_a9339_row7_col1\" class=\"data row7 col1\" >1.58</td>\n",
       "      <td id=\"T_a9339_row7_col2\" class=\"data row7 col2\" >1.00</td>\n",
       "      <td id=\"T_a9339_row7_col3\" class=\"data row7 col3\" >15.50</td>\n",
       "      <td id=\"T_a9339_row7_col4\" class=\"data row7 col4\" >0.61</td>\n",
       "      <td id=\"T_a9339_row7_col5\" class=\"data row7 col5\" >72.00</td>\n",
       "      <td id=\"T_a9339_row7_col6\" class=\"data row7 col6\" >165.00</td>\n",
       "      <td id=\"T_a9339_row7_col7\" class=\"data row7 col7\" >1.00</td>\n",
       "      <td id=\"T_a9339_row7_col8\" class=\"data row7 col8\" >4.01</td>\n",
       "      <td id=\"T_a9339_row7_col9\" class=\"data row7 col9\" >2.00</td>\n",
       "      <td id=\"T_a9339_row7_col10\" class=\"data row7 col10\" >14.90</td>\n",
       "    </tr>\n",
       "  </tbody>\n",
       "</table>\n"
      ],
      "text/plain": [
       "<pandas.io.formats.style.Styler at 0x1656fe250>"
      ]
     },
     "metadata": {},
     "output_type": "display_data"
    },
    {
     "data": {
      "text/html": [
       "<style type=\"text/css\">\n",
       "</style>\n",
       "<table id=\"T_e6a23\">\n",
       "  <caption>After Normalization : </caption>\n",
       "  <thead>\n",
       "    <tr>\n",
       "      <th class=\"blank level0\" >&nbsp;</th>\n",
       "      <th id=\"T_e6a23_level0_col0\" class=\"col_heading level0 col0\" >fixed acidity</th>\n",
       "      <th id=\"T_e6a23_level0_col1\" class=\"col_heading level0 col1\" >volatile acidity</th>\n",
       "      <th id=\"T_e6a23_level0_col2\" class=\"col_heading level0 col2\" >citric acid</th>\n",
       "      <th id=\"T_e6a23_level0_col3\" class=\"col_heading level0 col3\" >residual sugar</th>\n",
       "      <th id=\"T_e6a23_level0_col4\" class=\"col_heading level0 col4\" >chlorides</th>\n",
       "      <th id=\"T_e6a23_level0_col5\" class=\"col_heading level0 col5\" >free sulfur dioxide</th>\n",
       "      <th id=\"T_e6a23_level0_col6\" class=\"col_heading level0 col6\" >total sulfur dioxide</th>\n",
       "      <th id=\"T_e6a23_level0_col7\" class=\"col_heading level0 col7\" >density</th>\n",
       "      <th id=\"T_e6a23_level0_col8\" class=\"col_heading level0 col8\" >pH</th>\n",
       "      <th id=\"T_e6a23_level0_col9\" class=\"col_heading level0 col9\" >sulphates</th>\n",
       "      <th id=\"T_e6a23_level0_col10\" class=\"col_heading level0 col10\" >alcohol</th>\n",
       "    </tr>\n",
       "  </thead>\n",
       "  <tbody>\n",
       "    <tr>\n",
       "      <th id=\"T_e6a23_level0_row0\" class=\"row_heading level0 row0\" >count</th>\n",
       "      <td id=\"T_e6a23_row0_col0\" class=\"data row0 col0\" >1279.00</td>\n",
       "      <td id=\"T_e6a23_row0_col1\" class=\"data row0 col1\" >1279.00</td>\n",
       "      <td id=\"T_e6a23_row0_col2\" class=\"data row0 col2\" >1279.00</td>\n",
       "      <td id=\"T_e6a23_row0_col3\" class=\"data row0 col3\" >1279.00</td>\n",
       "      <td id=\"T_e6a23_row0_col4\" class=\"data row0 col4\" >1279.00</td>\n",
       "      <td id=\"T_e6a23_row0_col5\" class=\"data row0 col5\" >1279.00</td>\n",
       "      <td id=\"T_e6a23_row0_col6\" class=\"data row0 col6\" >1279.00</td>\n",
       "      <td id=\"T_e6a23_row0_col7\" class=\"data row0 col7\" >1279.00</td>\n",
       "      <td id=\"T_e6a23_row0_col8\" class=\"data row0 col8\" >1279.00</td>\n",
       "      <td id=\"T_e6a23_row0_col9\" class=\"data row0 col9\" >1279.00</td>\n",
       "      <td id=\"T_e6a23_row0_col10\" class=\"data row0 col10\" >1279.00</td>\n",
       "    </tr>\n",
       "    <tr>\n",
       "      <th id=\"T_e6a23_level0_row1\" class=\"row_heading level0 row1\" >mean</th>\n",
       "      <td id=\"T_e6a23_row1_col0\" class=\"data row1 col0\" >-0.00</td>\n",
       "      <td id=\"T_e6a23_row1_col1\" class=\"data row1 col1\" >-0.00</td>\n",
       "      <td id=\"T_e6a23_row1_col2\" class=\"data row1 col2\" >0.00</td>\n",
       "      <td id=\"T_e6a23_row1_col3\" class=\"data row1 col3\" >0.00</td>\n",
       "      <td id=\"T_e6a23_row1_col4\" class=\"data row1 col4\" >0.00</td>\n",
       "      <td id=\"T_e6a23_row1_col5\" class=\"data row1 col5\" >0.00</td>\n",
       "      <td id=\"T_e6a23_row1_col6\" class=\"data row1 col6\" >0.00</td>\n",
       "      <td id=\"T_e6a23_row1_col7\" class=\"data row1 col7\" >-0.00</td>\n",
       "      <td id=\"T_e6a23_row1_col8\" class=\"data row1 col8\" >-0.00</td>\n",
       "      <td id=\"T_e6a23_row1_col9\" class=\"data row1 col9\" >0.00</td>\n",
       "      <td id=\"T_e6a23_row1_col10\" class=\"data row1 col10\" >-0.00</td>\n",
       "    </tr>\n",
       "    <tr>\n",
       "      <th id=\"T_e6a23_level0_row2\" class=\"row_heading level0 row2\" >std</th>\n",
       "      <td id=\"T_e6a23_row2_col0\" class=\"data row2 col0\" >1.00</td>\n",
       "      <td id=\"T_e6a23_row2_col1\" class=\"data row2 col1\" >1.00</td>\n",
       "      <td id=\"T_e6a23_row2_col2\" class=\"data row2 col2\" >1.00</td>\n",
       "      <td id=\"T_e6a23_row2_col3\" class=\"data row2 col3\" >1.00</td>\n",
       "      <td id=\"T_e6a23_row2_col4\" class=\"data row2 col4\" >1.00</td>\n",
       "      <td id=\"T_e6a23_row2_col5\" class=\"data row2 col5\" >1.00</td>\n",
       "      <td id=\"T_e6a23_row2_col6\" class=\"data row2 col6\" >1.00</td>\n",
       "      <td id=\"T_e6a23_row2_col7\" class=\"data row2 col7\" >1.00</td>\n",
       "      <td id=\"T_e6a23_row2_col8\" class=\"data row2 col8\" >1.00</td>\n",
       "      <td id=\"T_e6a23_row2_col9\" class=\"data row2 col9\" >1.00</td>\n",
       "      <td id=\"T_e6a23_row2_col10\" class=\"data row2 col10\" >1.00</td>\n",
       "    </tr>\n",
       "    <tr>\n",
       "      <th id=\"T_e6a23_level0_row3\" class=\"row_heading level0 row3\" >min</th>\n",
       "      <td id=\"T_e6a23_row3_col0\" class=\"data row3 col0\" >-2.13</td>\n",
       "      <td id=\"T_e6a23_row3_col1\" class=\"data row3 col1\" >-2.26</td>\n",
       "      <td id=\"T_e6a23_row3_col2\" class=\"data row3 col2\" >-1.40</td>\n",
       "      <td id=\"T_e6a23_row3_col3\" class=\"data row3 col3\" >-1.17</td>\n",
       "      <td id=\"T_e6a23_row3_col4\" class=\"data row3 col4\" >-1.59</td>\n",
       "      <td id=\"T_e6a23_row3_col5\" class=\"data row3 col5\" >-1.41</td>\n",
       "      <td id=\"T_e6a23_row3_col6\" class=\"data row3 col6\" >-1.24</td>\n",
       "      <td id=\"T_e6a23_row3_col7\" class=\"data row3 col7\" >-3.56</td>\n",
       "      <td id=\"T_e6a23_row3_col8\" class=\"data row3 col8\" >-3.66</td>\n",
       "      <td id=\"T_e6a23_row3_col9\" class=\"data row3 col9\" >-1.88</td>\n",
       "      <td id=\"T_e6a23_row3_col10\" class=\"data row3 col10\" >-1.88</td>\n",
       "    </tr>\n",
       "    <tr>\n",
       "      <th id=\"T_e6a23_level0_row4\" class=\"row_heading level0 row4\" >25%</th>\n",
       "      <td id=\"T_e6a23_row4_col0\" class=\"data row4 col0\" >-0.70</td>\n",
       "      <td id=\"T_e6a23_row4_col1\" class=\"data row4 col1\" >-0.76</td>\n",
       "      <td id=\"T_e6a23_row4_col2\" class=\"data row4 col2\" >-0.89</td>\n",
       "      <td id=\"T_e6a23_row4_col3\" class=\"data row4 col3\" >-0.46</td>\n",
       "      <td id=\"T_e6a23_row4_col4\" class=\"data row4 col4\" >-0.36</td>\n",
       "      <td id=\"T_e6a23_row4_col5\" class=\"data row4 col5\" >-0.84</td>\n",
       "      <td id=\"T_e6a23_row4_col6\" class=\"data row4 col6\" >-0.75</td>\n",
       "      <td id=\"T_e6a23_row4_col7\" class=\"data row4 col7\" >-0.60</td>\n",
       "      <td id=\"T_e6a23_row4_col8\" class=\"data row4 col8\" >-0.64</td>\n",
       "      <td id=\"T_e6a23_row4_col9\" class=\"data row4 col9\" >-0.63</td>\n",
       "      <td id=\"T_e6a23_row4_col10\" class=\"data row4 col10\" >-0.85</td>\n",
       "    </tr>\n",
       "    <tr>\n",
       "      <th id=\"T_e6a23_level0_row5\" class=\"row_heading level0 row5\" >50%</th>\n",
       "      <td id=\"T_e6a23_row5_col0\" class=\"data row5 col0\" >-0.25</td>\n",
       "      <td id=\"T_e6a23_row5_col1\" class=\"data row5 col1\" >-0.04</td>\n",
       "      <td id=\"T_e6a23_row5_col2\" class=\"data row5 col2\" >-0.07</td>\n",
       "      <td id=\"T_e6a23_row5_col3\" class=\"data row5 col3\" >-0.24</td>\n",
       "      <td id=\"T_e6a23_row5_col4\" class=\"data row5 col4\" >-0.17</td>\n",
       "      <td id=\"T_e6a23_row5_col5\" class=\"data row5 col5\" >-0.26</td>\n",
       "      <td id=\"T_e6a23_row5_col6\" class=\"data row5 col6\" >-0.28</td>\n",
       "      <td id=\"T_e6a23_row5_col7\" class=\"data row5 col7\" >0.03</td>\n",
       "      <td id=\"T_e6a23_row5_col8\" class=\"data row5 col8\" >0.00</td>\n",
       "      <td id=\"T_e6a23_row5_col9\" class=\"data row5 col9\" >-0.24</td>\n",
       "      <td id=\"T_e6a23_row5_col10\" class=\"data row5 col10\" >-0.20</td>\n",
       "    </tr>\n",
       "    <tr>\n",
       "      <th id=\"T_e6a23_level0_row6\" class=\"row_heading level0 row6\" >75%</th>\n",
       "      <td id=\"T_e6a23_row6_col0\" class=\"data row6 col0\" >0.56</td>\n",
       "      <td id=\"T_e6a23_row6_col1\" class=\"data row6 col1\" >0.63</td>\n",
       "      <td id=\"T_e6a23_row6_col2\" class=\"data row6 col2\" >0.81</td>\n",
       "      <td id=\"T_e6a23_row6_col3\" class=\"data row6 col3\" >0.05</td>\n",
       "      <td id=\"T_e6a23_row6_col4\" class=\"data row6 col4\" >0.06</td>\n",
       "      <td id=\"T_e6a23_row6_col5\" class=\"data row6 col5\" >0.51</td>\n",
       "      <td id=\"T_e6a23_row6_col6\" class=\"data row6 col6\" >0.50</td>\n",
       "      <td id=\"T_e6a23_row6_col7\" class=\"data row6 col7\" >0.56</td>\n",
       "      <td id=\"T_e6a23_row6_col8\" class=\"data row6 col8\" >0.58</td>\n",
       "      <td id=\"T_e6a23_row6_col9\" class=\"data row6 col9\" >0.44</td>\n",
       "      <td id=\"T_e6a23_row6_col10\" class=\"data row6 col10\" >0.58</td>\n",
       "    </tr>\n",
       "    <tr>\n",
       "      <th id=\"T_e6a23_level0_row7\" class=\"row_heading level0 row7\" >max</th>\n",
       "      <td id=\"T_e6a23_row7_col0\" class=\"data row7 col0\" >4.33</td>\n",
       "      <td id=\"T_e6a23_row7_col1\" class=\"data row7 col1\" >5.85</td>\n",
       "      <td id=\"T_e6a23_row7_col2\" class=\"data row7 col2\" >3.74</td>\n",
       "      <td id=\"T_e6a23_row7_col3\" class=\"data row7 col3\" >9.30</td>\n",
       "      <td id=\"T_e6a23_row7_col4\" class=\"data row7 col4\" >11.10</td>\n",
       "      <td id=\"T_e6a23_row7_col5\" class=\"data row7 col5\" >5.39</td>\n",
       "      <td id=\"T_e6a23_row7_col6\" class=\"data row7 col6\" >3.70</td>\n",
       "      <td id=\"T_e6a23_row7_col7\" class=\"data row7 col7\" >3.71</td>\n",
       "      <td id=\"T_e6a23_row7_col8\" class=\"data row7 col8\" >4.50</td>\n",
       "      <td id=\"T_e6a23_row7_col9\" class=\"data row7 col9\" >7.55</td>\n",
       "      <td id=\"T_e6a23_row7_col10\" class=\"data row7 col10\" >4.18</td>\n",
       "    </tr>\n",
       "  </tbody>\n",
       "</table>\n"
      ],
      "text/plain": [
       "<pandas.io.formats.style.Styler at 0x165a1ce50>"
      ]
     },
     "metadata": {},
     "output_type": "display_data"
    }
   ],
   "source": [
    "display(x_train.describe().style.format(\"{0:.2f}\").set_caption(\"Before Normalization : \"))\n",
    "\n",
    "mean = x_train.mean()\n",
    "std = x_train.std()\n",
    "x_train = (x_train - mean) / std\n",
    "x_test = (x_test - mean) / std\n",
    "\n",
    "display(x_train.describe().style.format(\"{0:.2f}\").set_caption(\"After Normalization : \"))\n",
    "\n",
    "# Convert ou DataFrame to numpy array\n",
    "x_train, y_train = np.array(x_train), np.array(y_train)\n",
    "x_test, y_test = np.array(x_test), np.array(y_test)\n",
    "\n"
   ]
  },
  {
   "cell_type": "markdown",
   "metadata": {},
   "source": [
    "# Step 4 - Build a model"
   ]
  },
  {
   "cell_type": "code",
   "execution_count": 6,
   "metadata": {},
   "outputs": [],
   "source": [
    "def get_model_v1(shape):\n",
    "    model = tf.keras.models.Sequential()\n",
    "    model.add(tf.keras.layers.Input(shape=shape, name='InputLayer'))\n",
    "    model.add(tf.keras.layers.Dense(64, activation='relu', name='Dense_n1'))\n",
    "    model.add(tf.keras.layers.Dense(64, activation='relu', name='Dense_n2'))\n",
    "    model.add(tf.keras.layers.Dense(1, name='Output'))\n",
    "    \n",
    "    model.compile(optimizer='rmsprop', loss='mse', metrics=['mae', 'mse'])\n",
    "    return model    "
   ]
  },
  {
   "cell_type": "markdown",
   "metadata": {},
   "source": [
    "# Step 5 - Train the model \n",
    "\n",
    "## 5.1 - Get it "
   ]
  },
  {
   "cell_type": "code",
   "execution_count": 7,
   "metadata": {},
   "outputs": [
    {
     "name": "stdout",
     "output_type": "stream",
     "text": [
      "Model: \"sequential\"\n",
      "_________________________________________________________________\n",
      " Layer (type)                Output Shape              Param #   \n",
      "=================================================================\n",
      " Dense_n1 (Dense)            (None, 64)                768       \n",
      "                                                                 \n",
      " Dense_n2 (Dense)            (None, 64)                4160      \n",
      "                                                                 \n",
      " Output (Dense)              (None, 1)                 65        \n",
      "                                                                 \n",
      "=================================================================\n",
      "Total params: 4993 (19.50 KB)\n",
      "Trainable params: 4993 (19.50 KB)\n",
      "Non-trainable params: 0 (0.00 Byte)\n",
      "_________________________________________________________________\n"
     ]
    }
   ],
   "source": [
    "model = get_model_v1((11,))\n",
    "model.summary()"
   ]
  },
  {
   "cell_type": "markdown",
   "metadata": {},
   "source": [
    "## 5.2 - Add callback"
   ]
  },
  {
   "cell_type": "code",
   "execution_count": 8,
   "metadata": {},
   "outputs": [],
   "source": [
    "os.makedirs('./run/models', mode=0o750, exist_ok=True)\n",
    "save_dir = './run/models/best_model.h5'\n",
    "\n",
    "savemodel = tf.keras.callbacks.ModelCheckpoint(filepath=save_dir, verbose=0, save_best_only=True)"
   ]
  },
  {
   "cell_type": "markdown",
   "metadata": {},
   "source": [
    "## 5.3 - Train it"
   ]
  },
  {
   "cell_type": "code",
   "execution_count": 9,
   "metadata": {},
   "outputs": [
    {
     "name": "stderr",
     "output_type": "stream",
     "text": [
      "/Users/jules/anaconda3/lib/python3.11/site-packages/keras/src/engine/training.py:3103: UserWarning: You are saving your model as an HDF5 file via `model.save()`. This file format is considered legacy. We recommend using instead the native Keras format, e.g. `model.save('my_model.keras')`.\n",
      "  saving_api.save_model(\n"
     ]
    }
   ],
   "source": [
    "history = model.fit(x_train, y_train, epochs=100, batch_size=10, validation_data=(x_test, y_test), callbacks=[savemodel], verbose=0)"
   ]
  },
  {
   "cell_type": "markdown",
   "metadata": {},
   "source": [
    "# Step 6 - Evaluate\n",
    "\n",
    "## 6.1 - Model evaluation \n",
    "\n",
    "MAE = Mean Absolute Error (between the labels and predictions)\n",
    "A MAE equal to 3 represents an average error in prdection of $3K."
   ]
  },
  {
   "cell_type": "code",
   "execution_count": 10,
   "metadata": {},
   "outputs": [
    {
     "name": "stdout",
     "output_type": "stream",
     "text": [
      "x_test / loss : 0.4341 \n",
      "x_test / mae : 0.4808 \n",
      "x_test / mse : 0.4341 \n"
     ]
    }
   ],
   "source": [
    "scrore = model.evaluate(x_test, y_test, verbose=0)\n",
    "\n",
    "print('x_test / loss : {:5.4f} '.format(scrore[0]))\n",
    "print('x_test / mae : {:5.4f} '.format(scrore[1]))\n",
    "print('x_test / mse : {:5.4f} '.format(scrore[2]))"
   ]
  },
  {
   "cell_type": "markdown",
   "metadata": {},
   "source": [
    "## 6.2 - Training history\n",
    "\n",
    "What was the best result during our training?"
   ]
  },
  {
   "cell_type": "code",
   "execution_count": 11,
   "metadata": {},
   "outputs": [
    {
     "name": "stdout",
     "output_type": "stream",
     "text": [
      "min(val_mae) : 0.4525\n"
     ]
    }
   ],
   "source": [
    "print(\"min(val_mae) : {:.4f}\".format(min(history.history['val_mae'])))"
   ]
  },
  {
   "cell_type": "code",
   "execution_count": 12,
   "metadata": {},
   "outputs": [
    {
     "data": {
      "image/png": "[encoded data removed]",
      "text/plain": [
       "<Figure size 640x480 with 1 Axes>"
      ]
     },
     "metadata": {},
     "output_type": "display_data"
    },
    {
     "data": {
      "image/png": "[encoded data removed]",
      "text/plain": [
       "<Figure size 640x480 with 1 Axes>"
      ]
     },
     "metadata": {},
     "output_type": "display_data"
    },
    {
     "data": {
      "image/png": "[encoded data removed]",
      "text/plain": [
       "<Figure size 640x480 with 1 Axes>"
      ]
     },
     "metadata": {},
     "output_type": "display_data"
    }
   ],
   "source": [
    "plt.plot(history.history['mse'], label='mse')\n",
    "plt.plot(history.history['val_mse'], label='val_mse')\n",
    "plt.xlabel('Epoch')\n",
    "plt.ylabel('Mean Squared Error')\n",
    "plt.legend()\n",
    "plt.show()\n",
    "\n",
    "plt.plot(history.history['mae'], label='mae')\n",
    "plt.plot(history.history['val_mae'], label='val_mae')\n",
    "plt.xlabel('Epoch')\n",
    "plt.ylabel('Mean Absolute Error')\n",
    "plt.legend()\n",
    "plt.show()\n",
    "\n",
    "plt.plot(history.history['loss'], label='loss')\n",
    "plt.plot(history.history['val_loss'], label='val_loss')\n",
    "plt.xlabel('Epoch')\n",
    "plt.ylabel('Loss')\n",
    "plt.legend()\n",
    "plt.show()"
   ]
  },
  {
   "cell_type": "markdown",
   "metadata": {},
   "source": [
    "# Step 7 - Restore a model :\n",
    "\n",
    "## 7.1 - Reload model"
   ]
  },
  {
   "cell_type": "code",
   "execution_count": 13,
   "metadata": {},
   "outputs": [
    {
     "name": "stdout",
     "output_type": "stream",
     "text": [
      "Model: \"sequential\"\n",
      "_________________________________________________________________\n",
      " Layer (type)                Output Shape              Param #   \n",
      "=================================================================\n",
      " Dense_n1 (Dense)            (None, 64)                768       \n",
      "                                                                 \n",
      " Dense_n2 (Dense)            (None, 64)                4160      \n",
      "                                                                 \n",
      " Output (Dense)              (None, 1)                 65        \n",
      "                                                                 \n",
      "=================================================================\n",
      "Total params: 4993 (19.50 KB)\n",
      "Trainable params: 4993 (19.50 KB)\n",
      "Non-trainable params: 0 (0.00 Byte)\n",
      "_________________________________________________________________\n",
      "Loaded.\n"
     ]
    }
   ],
   "source": [
    "loaded_model = tf.keras.models.load_model('./run/models/best_model.h5')\n",
    "loaded_model.summary()\n",
    "print(\"Loaded.\")"
   ]
  },
  {
   "cell_type": "markdown",
   "metadata": {},
   "source": [
    "## 7.2 - Evaluate it :"
   ]
  },
  {
   "cell_type": "code",
   "execution_count": 14,
   "metadata": {},
   "outputs": [
    {
     "name": "stdout",
     "output_type": "stream",
     "text": [
      "x_test / loss : 0.3830 \n",
      "x_test / mae : 0.4780 \n",
      "x_test / mse : 0.3830 \n"
     ]
    }
   ],
   "source": [
    "score = loaded_model.evaluate(x_test, y_test, verbose=0)\n",
    "\n",
    "print('x_test / loss : {:5.4f} '.format(score[0]))\n",
    "print('x_test / mae : {:5.4f} '.format(score[1]))\n",
    "print('x_test / mse : {:5.4f} '.format(score[2]))"
   ]
  },
  {
   "cell_type": "markdown",
   "metadata": {},
   "source": [
    "## 7.3 - Make a prediction"
   ]
  },
  {
   "cell_type": "code",
   "execution_count": 15,
   "metadata": {},
   "outputs": [],
   "source": [
    "# ------ Pick n entries from our test set\n",
    "n = 200\n",
    "ii = np.random.randint(1, len(x_test), n)\n",
    "x_sample = x_test[ii]\n",
    "y_sample = y_test[ii]"
   ]
  },
  {
   "cell_type": "code",
   "execution_count": 16,
   "metadata": {},
   "outputs": [
    {
     "name": "stdout",
     "output_type": "stream",
     "text": [
      "7/7 - 0s - 88ms/epoch - 13ms/step\n"
     ]
    }
   ],
   "source": [
    "# ------ Make a prediction\n",
    "y_pred = loaded_model.predict(x_sample, verbose=2)"
   ]
  },
  {
   "cell_type": "code",
   "execution_count": 17,
   "metadata": {},
   "outputs": [
    {
     "name": "stdout",
     "output_type": "stream",
     "text": [
      "Wine Prediction Real Delta \n",
      "000 5.36 5 -0.36\n",
      "001 5.49 5 -0.49\n",
      "002 6.23 5 -1.23\n",
      "003 5.11 5 -0.11\n",
      "004 5.11 5 -0.11\n",
      "005 5.15 5 -0.15\n",
      "006 6.04 6 -0.04\n",
      "007 5.54 6 0.46\n",
      "008 5.71 7 1.29\n",
      "009 5.17 5 -0.17\n",
      "010 5.21 5 -0.21\n",
      "011 5.52 7 1.48\n",
      "012 5.61 6 0.39\n",
      "013 5.79 6 0.21\n",
      "014 5.71 6 0.29\n",
      "015 6.03 6 -0.03\n",
      "016 6.19 7 0.81\n",
      "017 5.54 5 -0.54\n",
      "018 4.93 5 0.07\n",
      "019 5.05 5 -0.05\n",
      "020 5.67 5 -0.67\n",
      "021 5.74 6 0.26\n",
      "022 5.68 5 -0.68\n",
      "023 6.34 7 0.66\n",
      "024 5.44 5 -0.44\n",
      "025 4.81 5 0.19\n",
      "026 5.44 5 -0.44\n",
      "027 6.80 7 0.20\n",
      "028 4.93 5 0.07\n",
      "029 5.95 6 0.05\n",
      "030 5.89 5 -0.89\n",
      "031 5.06 5 -0.06\n",
      "032 5.83 6 0.17\n",
      "033 5.02 6 0.98\n",
      "034 6.12 6 -0.12\n",
      "035 4.97 5 0.03\n",
      "036 6.41 7 0.59\n",
      "037 5.54 6 0.46\n",
      "038 6.56 6 -0.56\n",
      "039 5.88 6 0.12\n",
      "040 6.21 6 -0.21\n",
      "041 6.02 6 -0.02\n",
      "042 6.50 6 -0.50\n",
      "043 5.20 6 0.80\n",
      "044 5.52 5 -0.52\n",
      "045 5.12 5 -0.12\n",
      "046 6.12 6 -0.12\n",
      "047 6.10 4 -2.10\n",
      "048 5.12 5 -0.12\n",
      "049 7.06 7 -0.06\n",
      "050 4.85 3 -1.85\n",
      "051 5.84 6 0.16\n",
      "052 4.52 4 -0.52\n",
      "053 5.36 5 -0.36\n",
      "054 5.07 5 -0.07\n",
      "055 6.87 7 0.13\n",
      "056 5.20 5 -0.20\n",
      "057 5.03 5 -0.03\n",
      "058 5.49 6 0.51\n",
      "059 5.53 6 0.47\n",
      "060 5.68 5 -0.68\n",
      "061 6.17 7 0.83\n",
      "062 5.65 6 0.35\n",
      "063 6.39 6 -0.39\n",
      "064 6.87 7 0.13\n",
      "065 5.65 6 0.35\n",
      "066 5.64 5 -0.64\n",
      "067 5.37 6 0.63\n",
      "068 6.03 6 -0.03\n",
      "069 5.67 5 -0.67\n",
      "070 6.09 6 -0.09\n",
      "071 5.52 5 -0.52\n",
      "072 5.47 6 0.53\n",
      "073 6.15 5 -1.15\n",
      "074 5.62 5 -0.62\n",
      "075 5.36 5 -0.36\n",
      "076 5.05 5 -0.05\n",
      "077 5.74 6 0.26\n",
      "078 5.44 5 -0.44\n",
      "079 5.22 6 0.78\n",
      "080 6.05 5 -1.05\n",
      "081 5.60 7 1.40\n",
      "082 5.84 6 0.16\n",
      "083 6.14 6 -0.14\n",
      "084 5.05 5 -0.05\n",
      "085 5.66 6 0.34\n",
      "086 6.02 6 -0.02\n",
      "087 6.42 6 -0.42\n",
      "088 6.43 6 -0.43\n",
      "089 5.83 6 0.17\n",
      "090 5.40 6 0.60\n",
      "091 5.55 5 -0.55\n",
      "092 6.08 7 0.92\n",
      "093 6.01 5 -1.01\n",
      "094 6.06 6 -0.06\n",
      "095 6.02 6 -0.02\n",
      "096 5.36 5 -0.36\n",
      "097 5.44 5 -0.44\n",
      "098 5.47 6 0.53\n",
      "099 6.47 7 0.53\n",
      "100 5.70 5 -0.70\n",
      "101 5.89 5 -0.89\n",
      "102 6.08 7 0.92\n",
      "103 6.09 6 -0.09\n",
      "104 6.13 6 -0.13\n",
      "105 5.59 6 0.41\n",
      "106 5.89 6 0.11\n",
      "107 5.24 5 -0.24\n",
      "108 4.97 5 0.03\n",
      "109 6.27 7 0.73\n",
      "110 4.75 5 0.25\n",
      "111 5.38 5 -0.38\n",
      "112 5.56 5 -0.56\n",
      "113 6.13 6 -0.13\n",
      "114 5.02 6 0.98\n",
      "115 5.54 5 -0.54\n",
      "116 5.78 5 -0.78\n",
      "117 6.08 7 0.92\n",
      "118 6.56 6 -0.56\n",
      "119 5.72 5 -0.72\n",
      "120 5.40 6 0.60\n",
      "121 5.42 5 -0.42\n",
      "122 6.71 7 0.29\n",
      "123 5.25 5 -0.25\n",
      "124 5.96 4 -1.96\n",
      "125 5.24 5 -0.24\n",
      "126 5.96 6 0.04\n",
      "127 5.82 6 0.18\n",
      "128 6.56 6 -0.56\n",
      "129 6.15 5 -1.15\n",
      "130 6.05 5 -1.05\n",
      "131 5.54 6 0.46\n",
      "132 6.01 5 -1.01\n",
      "133 6.71 8 1.29\n",
      "134 5.14 5 -0.14\n",
      "135 4.97 5 0.03\n",
      "136 5.85 6 0.15\n",
      "137 6.15 6 -0.15\n",
      "138 5.30 5 -0.30\n",
      "139 6.62 6 -0.62\n",
      "140 6.43 6 -0.43\n",
      "141 6.05 5 -1.05\n",
      "142 4.68 5 0.32\n",
      "143 4.96 6 1.04\n",
      "144 5.41 5 -0.41\n",
      "145 5.82 5 -0.82\n",
      "146 5.30 5 -0.30\n",
      "147 6.62 6 -0.62\n",
      "148 6.80 7 0.20\n",
      "149 6.13 6 -0.13\n",
      "150 5.36 5 -0.36\n",
      "151 6.39 7 0.61\n",
      "152 6.41 7 0.59\n",
      "153 5.33 6 0.67\n",
      "154 5.83 5 -0.83\n",
      "155 5.40 6 0.60\n",
      "156 5.13 5 -0.13\n",
      "157 6.04 6 -0.04\n",
      "158 5.51 5 -0.51\n",
      "159 5.81 7 1.19\n",
      "160 5.98 6 0.02\n",
      "161 5.52 5 -0.52\n",
      "162 6.24 7 0.76\n",
      "163 5.10 5 -0.10\n",
      "164 5.68 5 -0.68\n",
      "165 5.83 5 -0.83\n",
      "166 5.72 6 0.28\n",
      "167 6.11 6 -0.11\n",
      "168 5.61 6 0.39\n",
      "169 6.41 7 0.59\n",
      "170 5.31 5 -0.31\n",
      "171 5.96 6 0.04\n",
      "172 7.06 7 -0.06\n",
      "173 5.12 5 -0.12\n",
      "174 5.88 6 0.12\n",
      "175 5.61 5 -0.61\n",
      "176 5.72 6 0.28\n",
      "177 6.13 6 -0.13\n",
      "178 5.07 5 -0.07\n",
      "179 5.18 5 -0.18\n",
      "180 5.82 6 0.18\n",
      "181 6.13 6 -0.13\n",
      "182 6.15 6 -0.15\n",
      "183 6.56 7 0.44\n",
      "184 6.39 6 -0.39\n",
      "185 6.34 7 0.66\n",
      "186 4.68 5 0.32\n",
      "187 5.49 5 -0.49\n",
      "188 5.31 6 0.69\n",
      "189 4.97 5 0.03\n",
      "190 6.80 7 0.20\n",
      "191 5.72 6 0.28\n",
      "192 5.70 5 -0.70\n",
      "193 5.15 5 -0.15\n",
      "194 5.34 5 -0.34\n",
      "195 5.86 6 0.14\n",
      "196 6.20 6 -0.20\n",
      "197 5.54 6 0.46\n",
      "198 5.39 5 -0.39\n",
      "199 5.23 5 -0.23\n"
     ]
    }
   ],
   "source": [
    "# ------ Show it\n",
    "print('Wine Prediction Real Delta ')\n",
    "for i in range(n):\n",
    "    pred = y_pred[i][0]\n",
    "    real = y_sample[i]\n",
    "    delta = real - pred\n",
    "    print(f'{i:03d} {pred:.2f} {real} {delta:.2f}')\n"
   ]
  }
 ],
 "metadata": {
  "kernelspec": {
   "display_name": "Python 3",
   "language": "python",
   "name": "python3"
  },
  "language_info": {
   "codemirror_mode": {
    "name": "ipython",
    "version": 3
   },
   "file_extension": ".py",
   "mimetype": "text/x-python",
   "name": "python",
   "nbconvert_exporter": "python",
   "pygments_lexer": "ipython3",
   "version": "3.11.4"
  }
 },
 "nbformat": 4,
 "nbformat_minor": 2
}
