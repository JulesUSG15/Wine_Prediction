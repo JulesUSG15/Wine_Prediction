{
 "cells": [
  {
   "cell_type": "markdown",
   "metadata": {},
   "source": [
    "# Wine quality prediction with a Dense Network (DNN)\n",
    "\n",
    "## Objectives  :\n",
    "- Predict the quality of wines, based on their analysis\n",
    "- Understanting the principal and the architecture of a regression with a dense neural network with backup and restore of the trained model.\n",
    "\n",
    "The Wine Quality datasets are made up of analyses of a large number of wines, with an associated quality (betwenn 0 and 10).\n",
    "This dataset is provide by :\n",
    "Paulo Cortez, University of Minho, Guimaräes, Portugal\n"
   ]
  },
  {
   "cell_type": "code",
   "execution_count": 1,
   "metadata": {},
   "outputs": [
    {
     "name": "stderr",
     "output_type": "stream",
     "text": [
      "2024-02-12 08:11:32.182465: I tensorflow/core/platform/cpu_feature_guard.cc:182] This TensorFlow binary is optimized to use available CPU instructions in performance-critical operations.\n",
      "To enable the following instructions: AVX2 FMA, in other operations, rebuild TensorFlow with the appropriate compiler flags.\n"
     ]
    }
   ],
   "source": [
    "import tensorflow as tf\n",
    "import numpy as np\n",
    "import matplotlib.pyplot as plt\n",
    "import pandas as pd\n",
    "import os,sys\n",
    "\n",
    "from IPython.display import Markdown\n",
    "from importlib import reload"
   ]
  },
  {
   "cell_type": "markdown",
   "metadata": {},
   "source": [
    "# Step 2 - Retrieve data"
   ]
  },
  {
   "cell_type": "code",
   "execution_count": 2,
   "metadata": {},
   "outputs": [
    {
     "data": {
      "text/html": [
       "<style type=\"text/css\">\n",
       "</style>\n",
       "<table id=\"T_a36ac\">\n",
       "  <thead>\n",
       "    <tr>\n",
       "      <th class=\"blank level0\" >&nbsp;</th>\n",
       "      <th id=\"T_a36ac_level0_col0\" class=\"col_heading level0 col0\" >fixed acidity</th>\n",
       "      <th id=\"T_a36ac_level0_col1\" class=\"col_heading level0 col1\" >volatile acidity</th>\n",
       "      <th id=\"T_a36ac_level0_col2\" class=\"col_heading level0 col2\" >citric acid</th>\n",
       "      <th id=\"T_a36ac_level0_col3\" class=\"col_heading level0 col3\" >residual sugar</th>\n",
       "      <th id=\"T_a36ac_level0_col4\" class=\"col_heading level0 col4\" >chlorides</th>\n",
       "      <th id=\"T_a36ac_level0_col5\" class=\"col_heading level0 col5\" >free sulfur dioxide</th>\n",
       "      <th id=\"T_a36ac_level0_col6\" class=\"col_heading level0 col6\" >total sulfur dioxide</th>\n",
       "      <th id=\"T_a36ac_level0_col7\" class=\"col_heading level0 col7\" >density</th>\n",
       "      <th id=\"T_a36ac_level0_col8\" class=\"col_heading level0 col8\" >pH</th>\n",
       "      <th id=\"T_a36ac_level0_col9\" class=\"col_heading level0 col9\" >sulphates</th>\n",
       "      <th id=\"T_a36ac_level0_col10\" class=\"col_heading level0 col10\" >alcohol</th>\n",
       "      <th id=\"T_a36ac_level0_col11\" class=\"col_heading level0 col11\" >quality</th>\n",
       "    </tr>\n",
       "  </thead>\n",
       "  <tbody>\n",
       "    <tr>\n",
       "      <th id=\"T_a36ac_level0_row0\" class=\"row_heading level0 row0\" >0</th>\n",
       "      <td id=\"T_a36ac_row0_col0\" class=\"data row0 col0\" >7.00</td>\n",
       "      <td id=\"T_a36ac_row0_col1\" class=\"data row0 col1\" >0.27</td>\n",
       "      <td id=\"T_a36ac_row0_col2\" class=\"data row0 col2\" >0.36</td>\n",
       "      <td id=\"T_a36ac_row0_col3\" class=\"data row0 col3\" >20.70</td>\n",
       "      <td id=\"T_a36ac_row0_col4\" class=\"data row0 col4\" >0.04</td>\n",
       "      <td id=\"T_a36ac_row0_col5\" class=\"data row0 col5\" >45.00</td>\n",
       "      <td id=\"T_a36ac_row0_col6\" class=\"data row0 col6\" >170.00</td>\n",
       "      <td id=\"T_a36ac_row0_col7\" class=\"data row0 col7\" >1.00</td>\n",
       "      <td id=\"T_a36ac_row0_col8\" class=\"data row0 col8\" >3.00</td>\n",
       "      <td id=\"T_a36ac_row0_col9\" class=\"data row0 col9\" >0.45</td>\n",
       "      <td id=\"T_a36ac_row0_col10\" class=\"data row0 col10\" >8.80</td>\n",
       "      <td id=\"T_a36ac_row0_col11\" class=\"data row0 col11\" >6.00</td>\n",
       "    </tr>\n",
       "    <tr>\n",
       "      <th id=\"T_a36ac_level0_row1\" class=\"row_heading level0 row1\" >1</th>\n",
       "      <td id=\"T_a36ac_row1_col0\" class=\"data row1 col0\" >6.30</td>\n",
       "      <td id=\"T_a36ac_row1_col1\" class=\"data row1 col1\" >0.30</td>\n",
       "      <td id=\"T_a36ac_row1_col2\" class=\"data row1 col2\" >0.34</td>\n",
       "      <td id=\"T_a36ac_row1_col3\" class=\"data row1 col3\" >1.60</td>\n",
       "      <td id=\"T_a36ac_row1_col4\" class=\"data row1 col4\" >0.05</td>\n",
       "      <td id=\"T_a36ac_row1_col5\" class=\"data row1 col5\" >14.00</td>\n",
       "      <td id=\"T_a36ac_row1_col6\" class=\"data row1 col6\" >132.00</td>\n",
       "      <td id=\"T_a36ac_row1_col7\" class=\"data row1 col7\" >0.99</td>\n",
       "      <td id=\"T_a36ac_row1_col8\" class=\"data row1 col8\" >3.30</td>\n",
       "      <td id=\"T_a36ac_row1_col9\" class=\"data row1 col9\" >0.49</td>\n",
       "      <td id=\"T_a36ac_row1_col10\" class=\"data row1 col10\" >9.50</td>\n",
       "      <td id=\"T_a36ac_row1_col11\" class=\"data row1 col11\" >6.00</td>\n",
       "    </tr>\n",
       "    <tr>\n",
       "      <th id=\"T_a36ac_level0_row2\" class=\"row_heading level0 row2\" >2</th>\n",
       "      <td id=\"T_a36ac_row2_col0\" class=\"data row2 col0\" >8.10</td>\n",
       "      <td id=\"T_a36ac_row2_col1\" class=\"data row2 col1\" >0.28</td>\n",
       "      <td id=\"T_a36ac_row2_col2\" class=\"data row2 col2\" >0.40</td>\n",
       "      <td id=\"T_a36ac_row2_col3\" class=\"data row2 col3\" >6.90</td>\n",
       "      <td id=\"T_a36ac_row2_col4\" class=\"data row2 col4\" >0.05</td>\n",
       "      <td id=\"T_a36ac_row2_col5\" class=\"data row2 col5\" >30.00</td>\n",
       "      <td id=\"T_a36ac_row2_col6\" class=\"data row2 col6\" >97.00</td>\n",
       "      <td id=\"T_a36ac_row2_col7\" class=\"data row2 col7\" >1.00</td>\n",
       "      <td id=\"T_a36ac_row2_col8\" class=\"data row2 col8\" >3.26</td>\n",
       "      <td id=\"T_a36ac_row2_col9\" class=\"data row2 col9\" >0.44</td>\n",
       "      <td id=\"T_a36ac_row2_col10\" class=\"data row2 col10\" >10.10</td>\n",
       "      <td id=\"T_a36ac_row2_col11\" class=\"data row2 col11\" >6.00</td>\n",
       "    </tr>\n",
       "    <tr>\n",
       "      <th id=\"T_a36ac_level0_row3\" class=\"row_heading level0 row3\" >3</th>\n",
       "      <td id=\"T_a36ac_row3_col0\" class=\"data row3 col0\" >7.20</td>\n",
       "      <td id=\"T_a36ac_row3_col1\" class=\"data row3 col1\" >0.23</td>\n",
       "      <td id=\"T_a36ac_row3_col2\" class=\"data row3 col2\" >0.32</td>\n",
       "      <td id=\"T_a36ac_row3_col3\" class=\"data row3 col3\" >8.50</td>\n",
       "      <td id=\"T_a36ac_row3_col4\" class=\"data row3 col4\" >0.06</td>\n",
       "      <td id=\"T_a36ac_row3_col5\" class=\"data row3 col5\" >47.00</td>\n",
       "      <td id=\"T_a36ac_row3_col6\" class=\"data row3 col6\" >186.00</td>\n",
       "      <td id=\"T_a36ac_row3_col7\" class=\"data row3 col7\" >1.00</td>\n",
       "      <td id=\"T_a36ac_row3_col8\" class=\"data row3 col8\" >3.19</td>\n",
       "      <td id=\"T_a36ac_row3_col9\" class=\"data row3 col9\" >0.40</td>\n",
       "      <td id=\"T_a36ac_row3_col10\" class=\"data row3 col10\" >9.90</td>\n",
       "      <td id=\"T_a36ac_row3_col11\" class=\"data row3 col11\" >6.00</td>\n",
       "    </tr>\n",
       "    <tr>\n",
       "      <th id=\"T_a36ac_level0_row4\" class=\"row_heading level0 row4\" >4</th>\n",
       "      <td id=\"T_a36ac_row4_col0\" class=\"data row4 col0\" >7.20</td>\n",
       "      <td id=\"T_a36ac_row4_col1\" class=\"data row4 col1\" >0.23</td>\n",
       "      <td id=\"T_a36ac_row4_col2\" class=\"data row4 col2\" >0.32</td>\n",
       "      <td id=\"T_a36ac_row4_col3\" class=\"data row4 col3\" >8.50</td>\n",
       "      <td id=\"T_a36ac_row4_col4\" class=\"data row4 col4\" >0.06</td>\n",
       "      <td id=\"T_a36ac_row4_col5\" class=\"data row4 col5\" >47.00</td>\n",
       "      <td id=\"T_a36ac_row4_col6\" class=\"data row4 col6\" >186.00</td>\n",
       "      <td id=\"T_a36ac_row4_col7\" class=\"data row4 col7\" >1.00</td>\n",
       "      <td id=\"T_a36ac_row4_col8\" class=\"data row4 col8\" >3.19</td>\n",
       "      <td id=\"T_a36ac_row4_col9\" class=\"data row4 col9\" >0.40</td>\n",
       "      <td id=\"T_a36ac_row4_col10\" class=\"data row4 col10\" >9.90</td>\n",
       "      <td id=\"T_a36ac_row4_col11\" class=\"data row4 col11\" >6.00</td>\n",
       "    </tr>\n",
       "  </tbody>\n",
       "</table>\n"
      ],
      "text/plain": [
       "<pandas.io.formats.style.Styler at 0x1575cc310>"
      ]
     },
     "metadata": {},
     "output_type": "display_data"
    },
    {
     "name": "stdout",
     "output_type": "stream",
     "text": [
      "Missing Data: 0  Shape is: (4898, 12)\n"
     ]
    }
   ],
   "source": [
    "data = pd.read_csv('winequality-white.csv', header =0, sep=';')\n",
    "display(data.head(5).style.format(\"{0:.2f}\"))\n",
    "print ('Missing Data:',data.isna().sum().sum(), ' Shape is:', data.shape)"
   ]
  },
  {
   "cell_type": "markdown",
   "metadata": {},
   "source": [
    "# Step 3 - Preparing the data\n",
    "\n",
    "## 3.1 - Split data\n",
    "\n",
    "We will use 80% of the data for training and 20% for validation.\n",
    "x will be the data of the analysis and y the quality."
   ]
  },
  {
   "cell_type": "code",
   "execution_count": 3,
   "metadata": {},
   "outputs": [
    {
     "name": "stdout",
     "output_type": "stream",
     "text": [
      "Original data shape was: (4898, 12)\n",
      "x_train: (3918, 11)  y_train: (3918,)\n",
      "x_test: (980, 11)  y_test: (980,)\n"
     ]
    }
   ],
   "source": [
    "# ------ split => train, test\n",
    "data = data.sample(frac=1., axis=0)\n",
    "data_train = data.sample(frac=0.8, axis=0)\n",
    "data_test = data.drop(data_train.index)\n",
    "\n",
    "# ------ split => x, y (y is quality)\n",
    "x_train = data_train.drop('quality', axis=1)\n",
    "y_train = data_train['quality']\n",
    "x_test = data_test.drop('quality', axis=1)\n",
    "y_test = data_test['quality']\n",
    "\n",
    "print ('Original data shape was:', data.shape)\n",
    "print ('x_train:', x_train.shape, ' y_train:', y_train.shape)\n",
    "print ('x_test:', x_test.shape, ' y_test:', y_test.shape)"
   ]
  },
  {
   "cell_type": "markdown",
   "metadata": {},
   "source": [
    "## 3.2 - Data normalization\n",
    "\n",
    "Note :\n",
    "\n",
    "- All input data muste be normalized, train and test.\n",
    "- To do this we will subtract the mean and divide by the standard deviation.\n",
    "- But test data should not be used in any way, even for normalization.\n",
    "- The mean and the standard deviation will therefore only be calculated with the train data."
   ]
  },
  {
   "cell_type": "code",
   "execution_count": 4,
   "metadata": {},
   "outputs": [
    {
     "data": {
      "text/html": [
       "<style type=\"text/css\">\n",
       "</style>\n",
       "<table id=\"T_b2f66\">\n",
       "  <caption>Before Normalization : </caption>\n",
       "  <thead>\n",
       "    <tr>\n",
       "      <th class=\"blank level0\" >&nbsp;</th>\n",
       "      <th id=\"T_b2f66_level0_col0\" class=\"col_heading level0 col0\" >fixed acidity</th>\n",
       "      <th id=\"T_b2f66_level0_col1\" class=\"col_heading level0 col1\" >volatile acidity</th>\n",
       "      <th id=\"T_b2f66_level0_col2\" class=\"col_heading level0 col2\" >citric acid</th>\n",
       "      <th id=\"T_b2f66_level0_col3\" class=\"col_heading level0 col3\" >residual sugar</th>\n",
       "      <th id=\"T_b2f66_level0_col4\" class=\"col_heading level0 col4\" >chlorides</th>\n",
       "      <th id=\"T_b2f66_level0_col5\" class=\"col_heading level0 col5\" >free sulfur dioxide</th>\n",
       "      <th id=\"T_b2f66_level0_col6\" class=\"col_heading level0 col6\" >total sulfur dioxide</th>\n",
       "      <th id=\"T_b2f66_level0_col7\" class=\"col_heading level0 col7\" >density</th>\n",
       "      <th id=\"T_b2f66_level0_col8\" class=\"col_heading level0 col8\" >pH</th>\n",
       "      <th id=\"T_b2f66_level0_col9\" class=\"col_heading level0 col9\" >sulphates</th>\n",
       "      <th id=\"T_b2f66_level0_col10\" class=\"col_heading level0 col10\" >alcohol</th>\n",
       "    </tr>\n",
       "  </thead>\n",
       "  <tbody>\n",
       "    <tr>\n",
       "      <th id=\"T_b2f66_level0_row0\" class=\"row_heading level0 row0\" >count</th>\n",
       "      <td id=\"T_b2f66_row0_col0\" class=\"data row0 col0\" >3918.00</td>\n",
       "      <td id=\"T_b2f66_row0_col1\" class=\"data row0 col1\" >3918.00</td>\n",
       "      <td id=\"T_b2f66_row0_col2\" class=\"data row0 col2\" >3918.00</td>\n",
       "      <td id=\"T_b2f66_row0_col3\" class=\"data row0 col3\" >3918.00</td>\n",
       "      <td id=\"T_b2f66_row0_col4\" class=\"data row0 col4\" >3918.00</td>\n",
       "      <td id=\"T_b2f66_row0_col5\" class=\"data row0 col5\" >3918.00</td>\n",
       "      <td id=\"T_b2f66_row0_col6\" class=\"data row0 col6\" >3918.00</td>\n",
       "      <td id=\"T_b2f66_row0_col7\" class=\"data row0 col7\" >3918.00</td>\n",
       "      <td id=\"T_b2f66_row0_col8\" class=\"data row0 col8\" >3918.00</td>\n",
       "      <td id=\"T_b2f66_row0_col9\" class=\"data row0 col9\" >3918.00</td>\n",
       "      <td id=\"T_b2f66_row0_col10\" class=\"data row0 col10\" >3918.00</td>\n",
       "    </tr>\n",
       "    <tr>\n",
       "      <th id=\"T_b2f66_level0_row1\" class=\"row_heading level0 row1\" >mean</th>\n",
       "      <td id=\"T_b2f66_row1_col0\" class=\"data row1 col0\" >6.85</td>\n",
       "      <td id=\"T_b2f66_row1_col1\" class=\"data row1 col1\" >0.28</td>\n",
       "      <td id=\"T_b2f66_row1_col2\" class=\"data row1 col2\" >0.33</td>\n",
       "      <td id=\"T_b2f66_row1_col3\" class=\"data row1 col3\" >6.41</td>\n",
       "      <td id=\"T_b2f66_row1_col4\" class=\"data row1 col4\" >0.05</td>\n",
       "      <td id=\"T_b2f66_row1_col5\" class=\"data row1 col5\" >35.52</td>\n",
       "      <td id=\"T_b2f66_row1_col6\" class=\"data row1 col6\" >138.47</td>\n",
       "      <td id=\"T_b2f66_row1_col7\" class=\"data row1 col7\" >0.99</td>\n",
       "      <td id=\"T_b2f66_row1_col8\" class=\"data row1 col8\" >3.19</td>\n",
       "      <td id=\"T_b2f66_row1_col9\" class=\"data row1 col9\" >0.49</td>\n",
       "      <td id=\"T_b2f66_row1_col10\" class=\"data row1 col10\" >10.51</td>\n",
       "    </tr>\n",
       "    <tr>\n",
       "      <th id=\"T_b2f66_level0_row2\" class=\"row_heading level0 row2\" >std</th>\n",
       "      <td id=\"T_b2f66_row2_col0\" class=\"data row2 col0\" >0.84</td>\n",
       "      <td id=\"T_b2f66_row2_col1\" class=\"data row2 col1\" >0.10</td>\n",
       "      <td id=\"T_b2f66_row2_col2\" class=\"data row2 col2\" >0.12</td>\n",
       "      <td id=\"T_b2f66_row2_col3\" class=\"data row2 col3\" >5.08</td>\n",
       "      <td id=\"T_b2f66_row2_col4\" class=\"data row2 col4\" >0.02</td>\n",
       "      <td id=\"T_b2f66_row2_col5\" class=\"data row2 col5\" >17.14</td>\n",
       "      <td id=\"T_b2f66_row2_col6\" class=\"data row2 col6\" >42.30</td>\n",
       "      <td id=\"T_b2f66_row2_col7\" class=\"data row2 col7\" >0.00</td>\n",
       "      <td id=\"T_b2f66_row2_col8\" class=\"data row2 col8\" >0.15</td>\n",
       "      <td id=\"T_b2f66_row2_col9\" class=\"data row2 col9\" >0.11</td>\n",
       "      <td id=\"T_b2f66_row2_col10\" class=\"data row2 col10\" >1.23</td>\n",
       "    </tr>\n",
       "    <tr>\n",
       "      <th id=\"T_b2f66_level0_row3\" class=\"row_heading level0 row3\" >min</th>\n",
       "      <td id=\"T_b2f66_row3_col0\" class=\"data row3 col0\" >3.80</td>\n",
       "      <td id=\"T_b2f66_row3_col1\" class=\"data row3 col1\" >0.08</td>\n",
       "      <td id=\"T_b2f66_row3_col2\" class=\"data row3 col2\" >0.00</td>\n",
       "      <td id=\"T_b2f66_row3_col3\" class=\"data row3 col3\" >0.60</td>\n",
       "      <td id=\"T_b2f66_row3_col4\" class=\"data row3 col4\" >0.01</td>\n",
       "      <td id=\"T_b2f66_row3_col5\" class=\"data row3 col5\" >3.00</td>\n",
       "      <td id=\"T_b2f66_row3_col6\" class=\"data row3 col6\" >9.00</td>\n",
       "      <td id=\"T_b2f66_row3_col7\" class=\"data row3 col7\" >0.99</td>\n",
       "      <td id=\"T_b2f66_row3_col8\" class=\"data row3 col8\" >2.72</td>\n",
       "      <td id=\"T_b2f66_row3_col9\" class=\"data row3 col9\" >0.22</td>\n",
       "      <td id=\"T_b2f66_row3_col10\" class=\"data row3 col10\" >8.00</td>\n",
       "    </tr>\n",
       "    <tr>\n",
       "      <th id=\"T_b2f66_level0_row4\" class=\"row_heading level0 row4\" >25%</th>\n",
       "      <td id=\"T_b2f66_row4_col0\" class=\"data row4 col0\" >6.30</td>\n",
       "      <td id=\"T_b2f66_row4_col1\" class=\"data row4 col1\" >0.21</td>\n",
       "      <td id=\"T_b2f66_row4_col2\" class=\"data row4 col2\" >0.27</td>\n",
       "      <td id=\"T_b2f66_row4_col3\" class=\"data row4 col3\" >1.70</td>\n",
       "      <td id=\"T_b2f66_row4_col4\" class=\"data row4 col4\" >0.04</td>\n",
       "      <td id=\"T_b2f66_row4_col5\" class=\"data row4 col5\" >24.00</td>\n",
       "      <td id=\"T_b2f66_row4_col6\" class=\"data row4 col6\" >108.00</td>\n",
       "      <td id=\"T_b2f66_row4_col7\" class=\"data row4 col7\" >0.99</td>\n",
       "      <td id=\"T_b2f66_row4_col8\" class=\"data row4 col8\" >3.08</td>\n",
       "      <td id=\"T_b2f66_row4_col9\" class=\"data row4 col9\" >0.41</td>\n",
       "      <td id=\"T_b2f66_row4_col10\" class=\"data row4 col10\" >9.50</td>\n",
       "    </tr>\n",
       "    <tr>\n",
       "      <th id=\"T_b2f66_level0_row5\" class=\"row_heading level0 row5\" >50%</th>\n",
       "      <td id=\"T_b2f66_row5_col0\" class=\"data row5 col0\" >6.80</td>\n",
       "      <td id=\"T_b2f66_row5_col1\" class=\"data row5 col1\" >0.26</td>\n",
       "      <td id=\"T_b2f66_row5_col2\" class=\"data row5 col2\" >0.32</td>\n",
       "      <td id=\"T_b2f66_row5_col3\" class=\"data row5 col3\" >5.20</td>\n",
       "      <td id=\"T_b2f66_row5_col4\" class=\"data row5 col4\" >0.04</td>\n",
       "      <td id=\"T_b2f66_row5_col5\" class=\"data row5 col5\" >34.00</td>\n",
       "      <td id=\"T_b2f66_row5_col6\" class=\"data row5 col6\" >135.00</td>\n",
       "      <td id=\"T_b2f66_row5_col7\" class=\"data row5 col7\" >0.99</td>\n",
       "      <td id=\"T_b2f66_row5_col8\" class=\"data row5 col8\" >3.18</td>\n",
       "      <td id=\"T_b2f66_row5_col9\" class=\"data row5 col9\" >0.47</td>\n",
       "      <td id=\"T_b2f66_row5_col10\" class=\"data row5 col10\" >10.40</td>\n",
       "    </tr>\n",
       "    <tr>\n",
       "      <th id=\"T_b2f66_level0_row6\" class=\"row_heading level0 row6\" >75%</th>\n",
       "      <td id=\"T_b2f66_row6_col0\" class=\"data row6 col0\" >7.30</td>\n",
       "      <td id=\"T_b2f66_row6_col1\" class=\"data row6 col1\" >0.32</td>\n",
       "      <td id=\"T_b2f66_row6_col2\" class=\"data row6 col2\" >0.39</td>\n",
       "      <td id=\"T_b2f66_row6_col3\" class=\"data row6 col3\" >10.00</td>\n",
       "      <td id=\"T_b2f66_row6_col4\" class=\"data row6 col4\" >0.05</td>\n",
       "      <td id=\"T_b2f66_row6_col5\" class=\"data row6 col5\" >46.00</td>\n",
       "      <td id=\"T_b2f66_row6_col6\" class=\"data row6 col6\" >167.00</td>\n",
       "      <td id=\"T_b2f66_row6_col7\" class=\"data row6 col7\" >1.00</td>\n",
       "      <td id=\"T_b2f66_row6_col8\" class=\"data row6 col8\" >3.28</td>\n",
       "      <td id=\"T_b2f66_row6_col9\" class=\"data row6 col9\" >0.55</td>\n",
       "      <td id=\"T_b2f66_row6_col10\" class=\"data row6 col10\" >11.40</td>\n",
       "    </tr>\n",
       "    <tr>\n",
       "      <th id=\"T_b2f66_level0_row7\" class=\"row_heading level0 row7\" >max</th>\n",
       "      <td id=\"T_b2f66_row7_col0\" class=\"data row7 col0\" >11.80</td>\n",
       "      <td id=\"T_b2f66_row7_col1\" class=\"data row7 col1\" >0.96</td>\n",
       "      <td id=\"T_b2f66_row7_col2\" class=\"data row7 col2\" >1.66</td>\n",
       "      <td id=\"T_b2f66_row7_col3\" class=\"data row7 col3\" >65.80</td>\n",
       "      <td id=\"T_b2f66_row7_col4\" class=\"data row7 col4\" >0.30</td>\n",
       "      <td id=\"T_b2f66_row7_col5\" class=\"data row7 col5\" >289.00</td>\n",
       "      <td id=\"T_b2f66_row7_col6\" class=\"data row7 col6\" >440.00</td>\n",
       "      <td id=\"T_b2f66_row7_col7\" class=\"data row7 col7\" >1.04</td>\n",
       "      <td id=\"T_b2f66_row7_col8\" class=\"data row7 col8\" >3.81</td>\n",
       "      <td id=\"T_b2f66_row7_col9\" class=\"data row7 col9\" >1.00</td>\n",
       "      <td id=\"T_b2f66_row7_col10\" class=\"data row7 col10\" >14.20</td>\n",
       "    </tr>\n",
       "  </tbody>\n",
       "</table>\n"
      ],
      "text/plain": [
       "<pandas.io.formats.style.Styler at 0x157918210>"
      ]
     },
     "metadata": {},
     "output_type": "display_data"
    },
    {
     "data": {
      "text/html": [
       "<style type=\"text/css\">\n",
       "</style>\n",
       "<table id=\"T_da399\">\n",
       "  <caption>After Normalization : </caption>\n",
       "  <thead>\n",
       "    <tr>\n",
       "      <th class=\"blank level0\" >&nbsp;</th>\n",
       "      <th id=\"T_da399_level0_col0\" class=\"col_heading level0 col0\" >fixed acidity</th>\n",
       "      <th id=\"T_da399_level0_col1\" class=\"col_heading level0 col1\" >volatile acidity</th>\n",
       "      <th id=\"T_da399_level0_col2\" class=\"col_heading level0 col2\" >citric acid</th>\n",
       "      <th id=\"T_da399_level0_col3\" class=\"col_heading level0 col3\" >residual sugar</th>\n",
       "      <th id=\"T_da399_level0_col4\" class=\"col_heading level0 col4\" >chlorides</th>\n",
       "      <th id=\"T_da399_level0_col5\" class=\"col_heading level0 col5\" >free sulfur dioxide</th>\n",
       "      <th id=\"T_da399_level0_col6\" class=\"col_heading level0 col6\" >total sulfur dioxide</th>\n",
       "      <th id=\"T_da399_level0_col7\" class=\"col_heading level0 col7\" >density</th>\n",
       "      <th id=\"T_da399_level0_col8\" class=\"col_heading level0 col8\" >pH</th>\n",
       "      <th id=\"T_da399_level0_col9\" class=\"col_heading level0 col9\" >sulphates</th>\n",
       "      <th id=\"T_da399_level0_col10\" class=\"col_heading level0 col10\" >alcohol</th>\n",
       "    </tr>\n",
       "  </thead>\n",
       "  <tbody>\n",
       "    <tr>\n",
       "      <th id=\"T_da399_level0_row0\" class=\"row_heading level0 row0\" >count</th>\n",
       "      <td id=\"T_da399_row0_col0\" class=\"data row0 col0\" >3918.00</td>\n",
       "      <td id=\"T_da399_row0_col1\" class=\"data row0 col1\" >3918.00</td>\n",
       "      <td id=\"T_da399_row0_col2\" class=\"data row0 col2\" >3918.00</td>\n",
       "      <td id=\"T_da399_row0_col3\" class=\"data row0 col3\" >3918.00</td>\n",
       "      <td id=\"T_da399_row0_col4\" class=\"data row0 col4\" >3918.00</td>\n",
       "      <td id=\"T_da399_row0_col5\" class=\"data row0 col5\" >3918.00</td>\n",
       "      <td id=\"T_da399_row0_col6\" class=\"data row0 col6\" >3918.00</td>\n",
       "      <td id=\"T_da399_row0_col7\" class=\"data row0 col7\" >3918.00</td>\n",
       "      <td id=\"T_da399_row0_col8\" class=\"data row0 col8\" >3918.00</td>\n",
       "      <td id=\"T_da399_row0_col9\" class=\"data row0 col9\" >3918.00</td>\n",
       "      <td id=\"T_da399_row0_col10\" class=\"data row0 col10\" >3918.00</td>\n",
       "    </tr>\n",
       "    <tr>\n",
       "      <th id=\"T_da399_level0_row1\" class=\"row_heading level0 row1\" >mean</th>\n",
       "      <td id=\"T_da399_row1_col0\" class=\"data row1 col0\" >0.00</td>\n",
       "      <td id=\"T_da399_row1_col1\" class=\"data row1 col1\" >0.00</td>\n",
       "      <td id=\"T_da399_row1_col2\" class=\"data row1 col2\" >-0.00</td>\n",
       "      <td id=\"T_da399_row1_col3\" class=\"data row1 col3\" >-0.00</td>\n",
       "      <td id=\"T_da399_row1_col4\" class=\"data row1 col4\" >-0.00</td>\n",
       "      <td id=\"T_da399_row1_col5\" class=\"data row1 col5\" >0.00</td>\n",
       "      <td id=\"T_da399_row1_col6\" class=\"data row1 col6\" >-0.00</td>\n",
       "      <td id=\"T_da399_row1_col7\" class=\"data row1 col7\" >0.00</td>\n",
       "      <td id=\"T_da399_row1_col8\" class=\"data row1 col8\" >-0.00</td>\n",
       "      <td id=\"T_da399_row1_col9\" class=\"data row1 col9\" >0.00</td>\n",
       "      <td id=\"T_da399_row1_col10\" class=\"data row1 col10\" >0.00</td>\n",
       "    </tr>\n",
       "    <tr>\n",
       "      <th id=\"T_da399_level0_row2\" class=\"row_heading level0 row2\" >std</th>\n",
       "      <td id=\"T_da399_row2_col0\" class=\"data row2 col0\" >1.00</td>\n",
       "      <td id=\"T_da399_row2_col1\" class=\"data row2 col1\" >1.00</td>\n",
       "      <td id=\"T_da399_row2_col2\" class=\"data row2 col2\" >1.00</td>\n",
       "      <td id=\"T_da399_row2_col3\" class=\"data row2 col3\" >1.00</td>\n",
       "      <td id=\"T_da399_row2_col4\" class=\"data row2 col4\" >1.00</td>\n",
       "      <td id=\"T_da399_row2_col5\" class=\"data row2 col5\" >1.00</td>\n",
       "      <td id=\"T_da399_row2_col6\" class=\"data row2 col6\" >1.00</td>\n",
       "      <td id=\"T_da399_row2_col7\" class=\"data row2 col7\" >1.00</td>\n",
       "      <td id=\"T_da399_row2_col8\" class=\"data row2 col8\" >1.00</td>\n",
       "      <td id=\"T_da399_row2_col9\" class=\"data row2 col9\" >1.00</td>\n",
       "      <td id=\"T_da399_row2_col10\" class=\"data row2 col10\" >1.00</td>\n",
       "    </tr>\n",
       "    <tr>\n",
       "      <th id=\"T_da399_level0_row3\" class=\"row_heading level0 row3\" >min</th>\n",
       "      <td id=\"T_da399_row3_col0\" class=\"data row3 col0\" >-3.64</td>\n",
       "      <td id=\"T_da399_row3_col1\" class=\"data row3 col1\" >-1.97</td>\n",
       "      <td id=\"T_da399_row3_col2\" class=\"data row3 col2\" >-2.73</td>\n",
       "      <td id=\"T_da399_row3_col3\" class=\"data row3 col3\" >-1.15</td>\n",
       "      <td id=\"T_da399_row3_col4\" class=\"data row3 col4\" >-1.67</td>\n",
       "      <td id=\"T_da399_row3_col5\" class=\"data row3 col5\" >-1.90</td>\n",
       "      <td id=\"T_da399_row3_col6\" class=\"data row3 col6\" >-3.06</td>\n",
       "      <td id=\"T_da399_row3_col7\" class=\"data row3 col7\" >-2.30</td>\n",
       "      <td id=\"T_da399_row3_col8\" class=\"data row3 col8\" >-3.08</td>\n",
       "      <td id=\"T_da399_row3_col9\" class=\"data row3 col9\" >-2.38</td>\n",
       "      <td id=\"T_da399_row3_col10\" class=\"data row3 col10\" >-2.04</td>\n",
       "    </tr>\n",
       "    <tr>\n",
       "      <th id=\"T_da399_level0_row4\" class=\"row_heading level0 row4\" >25%</th>\n",
       "      <td id=\"T_da399_row4_col0\" class=\"data row4 col0\" >-0.66</td>\n",
       "      <td id=\"T_da399_row4_col1\" class=\"data row4 col1\" >-0.68</td>\n",
       "      <td id=\"T_da399_row4_col2\" class=\"data row4 col2\" >-0.53</td>\n",
       "      <td id=\"T_da399_row4_col3\" class=\"data row4 col3\" >-0.93</td>\n",
       "      <td id=\"T_da399_row4_col4\" class=\"data row4 col4\" >-0.45</td>\n",
       "      <td id=\"T_da399_row4_col5\" class=\"data row4 col5\" >-0.67</td>\n",
       "      <td id=\"T_da399_row4_col6\" class=\"data row4 col6\" >-0.72</td>\n",
       "      <td id=\"T_da399_row4_col7\" class=\"data row4 col7\" >-0.76</td>\n",
       "      <td id=\"T_da399_row4_col8\" class=\"data row4 col8\" >-0.71</td>\n",
       "      <td id=\"T_da399_row4_col9\" class=\"data row4 col9\" >-0.70</td>\n",
       "      <td id=\"T_da399_row4_col10\" class=\"data row4 col10\" >-0.82</td>\n",
       "    </tr>\n",
       "    <tr>\n",
       "      <th id=\"T_da399_level0_row5\" class=\"row_heading level0 row5\" >50%</th>\n",
       "      <td id=\"T_da399_row5_col0\" class=\"data row5 col0\" >-0.06</td>\n",
       "      <td id=\"T_da399_row5_col1\" class=\"data row5 col1\" >-0.18</td>\n",
       "      <td id=\"T_da399_row5_col2\" class=\"data row5 col2\" >-0.12</td>\n",
       "      <td id=\"T_da399_row5_col3\" class=\"data row5 col3\" >-0.24</td>\n",
       "      <td id=\"T_da399_row5_col4\" class=\"data row5 col4\" >-0.13</td>\n",
       "      <td id=\"T_da399_row5_col5\" class=\"data row5 col5\" >-0.09</td>\n",
       "      <td id=\"T_da399_row5_col6\" class=\"data row5 col6\" >-0.08</td>\n",
       "      <td id=\"T_da399_row5_col7\" class=\"data row5 col7\" >-0.08</td>\n",
       "      <td id=\"T_da399_row5_col8\" class=\"data row5 col8\" >-0.05</td>\n",
       "      <td id=\"T_da399_row5_col9\" class=\"data row5 col9\" >-0.17</td>\n",
       "      <td id=\"T_da399_row5_col10\" class=\"data row5 col10\" >-0.09</td>\n",
       "    </tr>\n",
       "    <tr>\n",
       "      <th id=\"T_da399_level0_row6\" class=\"row_heading level0 row6\" >75%</th>\n",
       "      <td id=\"T_da399_row6_col0\" class=\"data row6 col0\" >0.54</td>\n",
       "      <td id=\"T_da399_row6_col1\" class=\"data row6 col1\" >0.42</td>\n",
       "      <td id=\"T_da399_row6_col2\" class=\"data row6 col2\" >0.45</td>\n",
       "      <td id=\"T_da399_row6_col3\" class=\"data row6 col3\" >0.71</td>\n",
       "      <td id=\"T_da399_row6_col4\" class=\"data row6 col4\" >0.19</td>\n",
       "      <td id=\"T_da399_row6_col5\" class=\"data row6 col5\" >0.61</td>\n",
       "      <td id=\"T_da399_row6_col6\" class=\"data row6 col6\" >0.67</td>\n",
       "      <td id=\"T_da399_row6_col7\" class=\"data row6 col7\" >0.72</td>\n",
       "      <td id=\"T_da399_row6_col8\" class=\"data row6 col8\" >0.61</td>\n",
       "      <td id=\"T_da399_row6_col9\" class=\"data row6 col9\" >0.53</td>\n",
       "      <td id=\"T_da399_row6_col10\" class=\"data row6 col10\" >0.72</td>\n",
       "    </tr>\n",
       "    <tr>\n",
       "      <th id=\"T_da399_level0_row7\" class=\"row_heading level0 row7\" >max</th>\n",
       "      <td id=\"T_da399_row7_col0\" class=\"data row7 col0\" >5.91</td>\n",
       "      <td id=\"T_da399_row7_col1\" class=\"data row7 col1\" >6.84</td>\n",
       "      <td id=\"T_da399_row7_col2\" class=\"data row7 col2\" >10.82</td>\n",
       "      <td id=\"T_da399_row7_col3\" class=\"data row7 col3\" >11.70</td>\n",
       "      <td id=\"T_da399_row7_col4\" class=\"data row7 col4\" >11.53</td>\n",
       "      <td id=\"T_da399_row7_col5\" class=\"data row7 col5\" >14.79</td>\n",
       "      <td id=\"T_da399_row7_col6\" class=\"data row7 col6\" >7.13</td>\n",
       "      <td id=\"T_da399_row7_col7\" class=\"data row7 col7\" >14.95</td>\n",
       "      <td id=\"T_da399_row7_col8\" class=\"data row7 col8\" >4.09</td>\n",
       "      <td id=\"T_da399_row7_col9\" class=\"data row7 col9\" >4.51</td>\n",
       "      <td id=\"T_da399_row7_col10\" class=\"data row7 col10\" >3.00</td>\n",
       "    </tr>\n",
       "  </tbody>\n",
       "</table>\n"
      ],
      "text/plain": [
       "<pandas.io.formats.style.Styler at 0x157918210>"
      ]
     },
     "metadata": {},
     "output_type": "display_data"
    }
   ],
   "source": [
    "display(x_train.describe().style.format(\"{0:.2f}\").set_caption(\"Before Normalization : \"))\n",
    "\n",
    "mean = x_train.mean()\n",
    "std = x_train.std()\n",
    "x_train = (x_train - mean) / std\n",
    "x_test = (x_test - mean) / std\n",
    "\n",
    "display(x_train.describe().style.format(\"{0:.2f}\").set_caption(\"After Normalization : \"))\n",
    "\n",
    "# Convert ou DataFrame to numpy array\n",
    "x_train, y_train = np.array(x_train), np.array(y_train)\n",
    "x_test, y_test = np.array(x_test), np.array(y_test)\n",
    "\n"
   ]
  },
  {
   "cell_type": "markdown",
   "metadata": {},
   "source": [
    "# Step 4 - Build a model"
   ]
  },
  {
   "cell_type": "code",
   "execution_count": 5,
   "metadata": {},
   "outputs": [],
   "source": [
    "def get_model_v1(shape):\n",
    "    model = tf.keras.models.Sequential()\n",
    "    model.add(tf.keras.layers.Input(shape=shape, name='InputLayer'))\n",
    "    model.add(tf.keras.layers.Dense(64, activation='relu', name='Dense_n1'))\n",
    "    model.add(tf.keras.layers.Dense(64, activation='relu', name='Dense_n2'))\n",
    "    model.add(tf.keras.layers.Dense(1, name='Output'))\n",
    "    \n",
    "    model.compile(optimizer='rmsprop', loss='mse', metrics=['mae', 'mse'])\n",
    "    return model   "
   ]
  },
  {
   "cell_type": "markdown",
   "metadata": {},
   "source": [
    "# Step 5 - Train the model \n",
    "\n",
    "## 5.1 - Get it "
   ]
  },
  {
   "cell_type": "code",
   "execution_count": 6,
   "metadata": {},
   "outputs": [
    {
     "name": "stdout",
     "output_type": "stream",
     "text": [
      "Model: \"sequential\"\n",
      "_________________________________________________________________\n",
      " Layer (type)                Output Shape              Param #   \n",
      "=================================================================\n",
      " Dense_n1 (Dense)            (None, 64)                768       \n",
      "                                                                 \n",
      " Dense_n2 (Dense)            (None, 64)                4160      \n",
      "                                                                 \n",
      " Output (Dense)              (None, 1)                 65        \n",
      "                                                                 \n",
      "=================================================================\n",
      "Total params: 4993 (19.50 KB)\n",
      "Trainable params: 4993 (19.50 KB)\n",
      "Non-trainable params: 0 (0.00 Byte)\n",
      "_________________________________________________________________\n"
     ]
    }
   ],
   "source": [
    "model = get_model_v1((11,))\n",
    "model.summary()"
   ]
  },
  {
   "cell_type": "markdown",
   "metadata": {},
   "source": [
    "## 5.2 - Add callback"
   ]
  },
  {
   "cell_type": "code",
   "execution_count": 7,
   "metadata": {},
   "outputs": [],
   "source": [
    "os.makedirs('./run/models', mode=0o750, exist_ok=True)\n",
    "save_dir = './run/models/best_white_model.h5'\n",
    "\n",
    "savemodel = tf.keras.callbacks.ModelCheckpoint(filepath=save_dir, verbose=0, save_best_only=True)"
   ]
  },
  {
   "cell_type": "markdown",
   "metadata": {},
   "source": [
    "## 5.3 - Train it"
   ]
  },
  {
   "cell_type": "code",
   "execution_count": 8,
   "metadata": {},
   "outputs": [
    {
     "name": "stderr",
     "output_type": "stream",
     "text": [
      "/Users/jules/anaconda3/lib/python3.11/site-packages/keras/src/engine/training.py:3103: UserWarning: You are saving your model as an HDF5 file via `model.save()`. This file format is considered legacy. We recommend using instead the native Keras format, e.g. `model.save('my_model.keras')`.\n",
      "  saving_api.save_model(\n"
     ]
    }
   ],
   "source": [
    "history = model.fit(x_train, y_train, epochs=100, batch_size=10, validation_data=(x_test, y_test), callbacks=[savemodel], verbose=0)"
   ]
  },
  {
   "cell_type": "markdown",
   "metadata": {},
   "source": [
    "# Step 6 - Evaluate\n",
    "\n",
    "## 6.1 - Model evaluation \n",
    "\n",
    "MAE = Mean Absolute Error (between the labels and predictions)\n",
    "A MAE equal to 3 represents an average error in prdection of $3K."
   ]
  },
  {
   "cell_type": "code",
   "execution_count": 9,
   "metadata": {},
   "outputs": [
    {
     "name": "stdout",
     "output_type": "stream",
     "text": [
      "x_test / loss : 0.5799 \n",
      "x_test / mae : 0.5910 \n",
      "x_test / mse : 0.5799 \n"
     ]
    }
   ],
   "source": [
    "scrore = model.evaluate(x_test, y_test, verbose=0)\n",
    "\n",
    "print('x_test / loss : {:5.4f} '.format(scrore[0]))\n",
    "print('x_test / mae : {:5.4f} '.format(scrore[1]))\n",
    "print('x_test / mse : {:5.4f} '.format(scrore[2]))"
   ]
  },
  {
   "cell_type": "markdown",
   "metadata": {},
   "source": [
    "## 6.2 - Training history\n",
    "\n",
    "What was the best result during our training?"
   ]
  },
  {
   "cell_type": "code",
   "execution_count": 10,
   "metadata": {},
   "outputs": [
    {
     "name": "stdout",
     "output_type": "stream",
     "text": [
      "min(val_mae) : 0.5300\n"
     ]
    }
   ],
   "source": [
    "print(\"min(val_mae) : {:.4f}\".format(min(history.history['val_mae'])))"
   ]
  },
  {
   "cell_type": "code",
   "execution_count": 11,
   "metadata": {},
   "outputs": [
    {
     "data": {
      "image/png": "[encoded data removed]",
      "text/plain": [
       "<Figure size 640x480 with 1 Axes>"
      ]
     },
     "metadata": {},
     "output_type": "display_data"
    },
    {
     "data": {
      "image/png": "[encoded data removed]",
      "text/plain": [
       "<Figure size 640x480 with 1 Axes>"
      ]
     },
     "metadata": {},
     "output_type": "display_data"
    },
    {
     "data": {
      "image/png": "[encoded data removed]",
      "text/plain": [
       "<Figure size 640x480 with 1 Axes>"
      ]
     },
     "metadata": {},
     "output_type": "display_data"
    }
   ],
   "source": [
    "plt.plot(history.history['mse'], label='mse')\n",
    "plt.plot(history.history['val_mse'], label='val_mse')\n",
    "plt.xlabel('Epoch')\n",
    "plt.ylabel('Mean Squared Error')\n",
    "plt.legend()\n",
    "plt.show()\n",
    "\n",
    "plt.plot(history.history['mae'], label='mae')\n",
    "plt.plot(history.history['val_mae'], label='val_mae')\n",
    "plt.xlabel('Epoch')\n",
    "plt.ylabel('Mean Absolute Error')\n",
    "plt.legend()\n",
    "plt.show()\n",
    "\n",
    "plt.plot(history.history['loss'], label='loss')\n",
    "plt.plot(history.history['val_loss'], label='val_loss')\n",
    "plt.xlabel('Epoch')\n",
    "plt.ylabel('Loss')\n",
    "plt.legend()\n",
    "plt.show()"
   ]
  },
  {
   "cell_type": "markdown",
   "metadata": {},
   "source": [
    "# Step 7 - Restore a model :\n",
    "\n",
    "## 7.1 - Reload model"
   ]
  },
  {
   "cell_type": "code",
   "execution_count": 12,
   "metadata": {},
   "outputs": [
    {
     "name": "stdout",
     "output_type": "stream",
     "text": [
      "Model: \"sequential\"\n",
      "_________________________________________________________________\n",
      " Layer (type)                Output Shape              Param #   \n",
      "=================================================================\n",
      " Dense_n1 (Dense)            (None, 64)                768       \n",
      "                                                                 \n",
      " Dense_n2 (Dense)            (None, 64)                4160      \n",
      "                                                                 \n",
      " Output (Dense)              (None, 1)                 65        \n",
      "                                                                 \n",
      "=================================================================\n",
      "Total params: 4993 (19.50 KB)\n",
      "Trainable params: 4993 (19.50 KB)\n",
      "Non-trainable params: 0 (0.00 Byte)\n",
      "_________________________________________________________________\n",
      "Loaded.\n"
     ]
    }
   ],
   "source": [
    "loaded_model = tf.keras.models.load_model('./run/models/best_white_model.h5')\n",
    "loaded_model.summary()\n",
    "print(\"Loaded.\")"
   ]
  },
  {
   "cell_type": "markdown",
   "metadata": {},
   "source": [
    "## 7.2 - Evaluate it :"
   ]
  },
  {
   "cell_type": "code",
   "execution_count": 13,
   "metadata": {},
   "outputs": [
    {
     "name": "stdout",
     "output_type": "stream",
     "text": [
      "x_test / loss : 0.4602 \n",
      "x_test / mae : 0.5362 \n",
      "x_test / mse : 0.4602 \n"
     ]
    }
   ],
   "source": [
    "score = loaded_model.evaluate(x_test, y_test, verbose=0)\n",
    "\n",
    "print('x_test / loss : {:5.4f} '.format(score[0]))\n",
    "print('x_test / mae : {:5.4f} '.format(score[1]))\n",
    "print('x_test / mse : {:5.4f} '.format(score[2]))"
   ]
  },
  {
   "cell_type": "markdown",
   "metadata": {},
   "source": [
    "## 7.3 - Make a prediction"
   ]
  },
  {
   "cell_type": "code",
   "execution_count": 14,
   "metadata": {},
   "outputs": [],
   "source": [
    "# ------ Pick n entries from our test set\n",
    "n = 200\n",
    "ii = np.random.randint(1, len(x_test), n)\n",
    "x_sample = x_test[ii]\n",
    "y_sample = y_test[ii]"
   ]
  },
  {
   "cell_type": "code",
   "execution_count": 15,
   "metadata": {},
   "outputs": [
    {
     "name": "stdout",
     "output_type": "stream",
     "text": [
      "7/7 - 0s - 87ms/epoch - 12ms/step\n"
     ]
    }
   ],
   "source": [
    "# ------ Make a prediction\n",
    "y_pred = loaded_model.predict(x_sample, verbose=2)"
   ]
  },
  {
   "cell_type": "code",
   "execution_count": 16,
   "metadata": {},
   "outputs": [
    {
     "name": "stdout",
     "output_type": "stream",
     "text": [
      "Wine Prediction Real Delta \n",
      "000 5.71 6 0.29\n",
      "001 5.28 5 -0.28\n",
      "002 5.14 5 -0.14\n",
      "003 5.80 5 -0.80\n",
      "004 6.13 6 -0.13\n",
      "005 6.96 8 1.04\n",
      "006 6.49 7 0.51\n",
      "007 8.00 6 -2.00\n",
      "008 7.33 7 -0.33\n",
      "009 5.20 6 0.80\n",
      "010 6.38 6 -0.38\n",
      "011 4.97 5 0.03\n",
      "012 5.27 5 -0.27\n",
      "013 6.28 6 -0.28\n",
      "014 5.08 5 -0.08\n",
      "015 6.67 6 -0.67\n",
      "016 7.29 7 -0.29\n",
      "017 6.34 7 0.66\n",
      "018 5.96 6 0.04\n",
      "019 5.99 7 1.01\n",
      "020 5.11 5 -0.11\n",
      "021 5.37 5 -0.37\n",
      "022 6.17 7 0.83\n",
      "023 5.80 6 0.20\n",
      "024 5.89 6 0.11\n",
      "025 5.11 5 -0.11\n",
      "026 5.93 6 0.07\n",
      "027 5.98 5 -0.98\n",
      "028 6.29 6 -0.29\n",
      "029 5.08 5 -0.08\n",
      "030 5.34 5 -0.34\n",
      "031 6.07 6 -0.07\n",
      "032 5.99 7 1.01\n",
      "033 6.10 6 -0.10\n",
      "034 5.41 5 -0.41\n",
      "035 5.38 4 -1.38\n",
      "036 7.09 7 -0.09\n",
      "037 6.75 6 -0.75\n",
      "038 6.53 7 0.47\n",
      "039 6.52 7 0.48\n",
      "040 5.40 7 1.60\n",
      "041 6.12 6 -0.12\n",
      "042 5.68 6 0.32\n",
      "043 6.08 6 -0.08\n",
      "044 4.92 6 1.08\n",
      "045 6.04 7 0.96\n",
      "046 4.94 4 -0.94\n",
      "047 5.45 6 0.55\n",
      "048 5.81 5 -0.81\n",
      "049 5.86 5 -0.86\n",
      "050 6.35 6 -0.35\n",
      "051 6.23 6 -0.23\n",
      "052 5.41 5 -0.41\n",
      "053 6.21 7 0.79\n",
      "054 5.78 5 -0.78\n",
      "055 6.15 7 0.85\n",
      "056 6.94 7 0.06\n",
      "057 5.49 7 1.51\n",
      "058 5.71 6 0.29\n",
      "059 5.45 6 0.55\n",
      "060 6.35 7 0.65\n",
      "061 5.91 6 0.09\n",
      "062 6.63 7 0.37\n",
      "063 5.77 4 -1.77\n",
      "064 6.77 6 -0.77\n",
      "065 5.03 5 -0.03\n",
      "066 4.65 4 -0.65\n",
      "067 6.23 5 -1.23\n",
      "068 5.55 5 -0.55\n",
      "069 6.03 5 -1.03\n",
      "070 6.26 5 -1.26\n",
      "071 6.12 7 0.88\n",
      "072 5.23 6 0.77\n",
      "073 6.83 7 0.17\n",
      "074 5.59 7 1.41\n",
      "075 5.82 5 -0.82\n",
      "076 5.87 6 0.13\n",
      "077 5.41 5 -0.41\n",
      "078 5.98 7 1.02\n",
      "079 5.20 5 -0.20\n",
      "080 5.64 6 0.36\n",
      "081 6.34 6 -0.34\n",
      "082 5.84 5 -0.84\n",
      "083 6.72 6 -0.72\n",
      "084 5.78 6 0.22\n",
      "085 5.84 6 0.16\n",
      "086 5.99 6 0.01\n",
      "087 5.71 5 -0.71\n",
      "088 6.50 7 0.50\n",
      "089 6.05 7 0.95\n",
      "090 6.53 6 -0.53\n",
      "091 5.67 6 0.33\n",
      "092 5.06 5 -0.06\n",
      "093 6.76 7 0.24\n",
      "094 5.12 5 -0.12\n",
      "095 6.31 7 0.69\n",
      "096 5.54 6 0.46\n",
      "097 5.30 6 0.70\n",
      "098 6.12 6 -0.12\n",
      "099 6.04 6 -0.04\n",
      "100 5.30 5 -0.30\n",
      "101 6.50 7 0.50\n",
      "102 5.12 6 0.88\n",
      "103 5.96 5 -0.96\n",
      "104 6.04 6 -0.04\n",
      "105 6.25 7 0.75\n",
      "106 5.96 6 0.04\n",
      "107 5.61 5 -0.61\n",
      "108 6.14 7 0.86\n",
      "109 5.84 6 0.16\n",
      "110 5.96 5 -0.96\n",
      "111 5.61 5 -0.61\n",
      "112 5.26 5 -0.26\n",
      "113 5.58 6 0.42\n",
      "114 5.81 6 0.19\n",
      "115 5.84 5 -0.84\n",
      "116 5.61 6 0.39\n",
      "117 5.66 6 0.34\n",
      "118 5.87 6 0.13\n",
      "119 6.94 7 0.06\n",
      "120 5.84 6 0.16\n",
      "121 6.24 6 -0.24\n",
      "122 6.94 7 0.06\n",
      "123 4.31 5 0.69\n",
      "124 5.63 6 0.37\n",
      "125 5.80 7 1.20\n",
      "126 6.78 7 0.22\n",
      "127 5.55 5 -0.55\n",
      "128 6.60 6 -0.60\n",
      "129 6.77 6 -0.77\n",
      "130 6.09 7 0.91\n",
      "131 6.15 6 -0.15\n",
      "132 5.67 5 -0.67\n",
      "133 6.51 7 0.49\n",
      "134 4.60 5 0.40\n",
      "135 7.24 7 -0.24\n",
      "136 5.37 5 -0.37\n",
      "137 6.43 6 -0.43\n",
      "138 5.92 7 1.08\n",
      "139 6.09 7 0.91\n",
      "140 5.25 4 -1.25\n",
      "141 6.05 7 0.95\n",
      "142 6.05 7 0.95\n",
      "143 6.13 6 -0.13\n",
      "144 6.60 6 -0.60\n",
      "145 6.56 3 -3.56\n",
      "146 5.60 6 0.40\n",
      "147 5.88 5 -0.88\n",
      "148 6.06 5 -1.06\n",
      "149 4.48 4 -0.48\n",
      "150 5.28 5 -0.28\n",
      "151 4.94 4 -0.94\n",
      "152 5.21 5 -0.21\n",
      "153 5.28 5 -0.28\n",
      "154 6.94 8 1.06\n",
      "155 5.24 5 -0.24\n",
      "156 7.18 7 -0.18\n",
      "157 6.34 6 -0.34\n",
      "158 4.75 4 -0.75\n",
      "159 5.69 5 -0.69\n",
      "160 6.43 6 -0.43\n",
      "161 5.45 5 -0.45\n",
      "162 6.66 6 -0.66\n",
      "163 4.79 4 -0.79\n",
      "164 6.35 7 0.65\n",
      "165 6.00 6 0.00\n",
      "166 5.22 5 -0.22\n",
      "167 5.12 6 0.88\n",
      "168 5.95 6 0.05\n",
      "169 5.41 5 -0.41\n",
      "170 5.24 5 -0.24\n",
      "171 6.82 7 0.18\n",
      "172 5.99 7 1.01\n",
      "173 6.70 7 0.30\n",
      "174 5.78 6 0.22\n",
      "175 5.20 5 -0.20\n",
      "176 6.83 7 0.17\n",
      "177 6.77 7 0.23\n",
      "178 6.15 7 0.85\n",
      "179 5.54 6 0.46\n",
      "180 5.74 6 0.26\n",
      "181 6.82 7 0.18\n",
      "182 6.33 7 0.67\n",
      "183 4.86 5 0.14\n",
      "184 6.21 7 0.79\n",
      "185 6.23 6 -0.23\n",
      "186 5.16 5 -0.16\n",
      "187 4.89 5 0.11\n",
      "188 7.01 8 0.99\n",
      "189 5.88 5 -0.88\n",
      "190 6.17 7 0.83\n",
      "191 5.71 6 0.29\n",
      "192 5.76 6 0.24\n",
      "193 6.95 6 -0.95\n",
      "194 6.25 6 -0.25\n",
      "195 5.42 5 -0.42\n",
      "196 6.46 5 -1.46\n",
      "197 4.81 5 0.19\n",
      "198 5.20 5 -0.20\n",
      "199 7.28 7 -0.28\n"
     ]
    }
   ],
   "source": [
    "# ------ Show it\n",
    "print('Wine Prediction Real Delta ')\n",
    "for i in range(n):\n",
    "    pred = y_pred[i][0]\n",
    "    real = y_sample[i]\n",
    "    delta = real - pred\n",
    "    print(f'{i:03d} {pred:.2f} {real} {delta:.2f}')"
   ]
  }
 ],
 "metadata": {
  "kernelspec": {
   "display_name": "base",
   "language": "python",
   "name": "python3"
  },
  "language_info": {
   "codemirror_mode": {
    "name": "ipython",
    "version": 3
   },
   "file_extension": ".py",
   "mimetype": "text/x-python",
   "name": "python",
   "nbconvert_exporter": "python",
   "pygments_lexer": "ipython3",
   "version": "3.11.4"
  }
 },
 "nbformat": 4,
 "nbformat_minor": 2
}
