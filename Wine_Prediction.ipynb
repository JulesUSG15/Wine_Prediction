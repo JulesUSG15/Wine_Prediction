{
 "cells": [
  {
   "cell_type": "markdown",
   "metadata": {},
   "source": [
    "# Wine quality prediction with a Dense Network (DNN)\n",
    "\n",
    "## Objectives  :\n",
    "- Predict the quality of wines, based on their analysis\n",
    "- Understanting the principal and the architecture of a regression with a dense neural network with backup and restore of the trained model.\n",
    "\n",
    "The Wine Quality datasets are made up of analyses of a large number of wines, with an associated quality (betwenn 0 and 10).\n",
    "This dataset is provide by :\n",
    "Paulo Cortez, University of Minho, Guimaräes, Portugal\n"
   ]
  },
  {
   "cell_type": "code",
   "execution_count": 1,
   "metadata": {},
   "outputs": [],
   "source": [
    "import numpy as np\n",
    "import matplotlib.pyplot as plt\n",
    "import pandas as pd\n",
    "import os,sys\n",
    "\n",
    "from IPython.display import Markdown\n",
    "from importlib import reload"
   ]
  },
  {
   "cell_type": "markdown",
   "metadata": {},
   "source": [
    "# Step 2 - Retrieve data"
   ]
  },
  {
   "cell_type": "code",
   "execution_count": 7,
   "metadata": {},
   "outputs": [
    {
     "data": {
      "text/html": [
       "<style type=\"text/css\">\n",
       "</style>\n",
       "<table id=\"T_96221_\">\n",
       "  <thead>\n",
       "    <tr>\n",
       "      <th class=\"blank level0\" >&nbsp;</th>\n",
       "      <th class=\"col_heading level0 col0\" >fixed acidity</th>\n",
       "      <th class=\"col_heading level0 col1\" >volatile acidity</th>\n",
       "      <th class=\"col_heading level0 col2\" >citric acid</th>\n",
       "      <th class=\"col_heading level0 col3\" >residual sugar</th>\n",
       "      <th class=\"col_heading level0 col4\" >chlorides</th>\n",
       "      <th class=\"col_heading level0 col5\" >free sulfur dioxide</th>\n",
       "      <th class=\"col_heading level0 col6\" >total sulfur dioxide</th>\n",
       "      <th class=\"col_heading level0 col7\" >density</th>\n",
       "      <th class=\"col_heading level0 col8\" >pH</th>\n",
       "      <th class=\"col_heading level0 col9\" >sulphates</th>\n",
       "      <th class=\"col_heading level0 col10\" >alcohol</th>\n",
       "      <th class=\"col_heading level0 col11\" >quality</th>\n",
       "    </tr>\n",
       "  </thead>\n",
       "  <tbody>\n",
       "    <tr>\n",
       "      <th id=\"T_96221_level0_row0\" class=\"row_heading level0 row0\" >0</th>\n",
       "      <td id=\"T_96221_row0_col0\" class=\"data row0 col0\" >7.40</td>\n",
       "      <td id=\"T_96221_row0_col1\" class=\"data row0 col1\" >0.70</td>\n",
       "      <td id=\"T_96221_row0_col2\" class=\"data row0 col2\" >0.00</td>\n",
       "      <td id=\"T_96221_row0_col3\" class=\"data row0 col3\" >1.90</td>\n",
       "      <td id=\"T_96221_row0_col4\" class=\"data row0 col4\" >0.08</td>\n",
       "      <td id=\"T_96221_row0_col5\" class=\"data row0 col5\" >11.00</td>\n",
       "      <td id=\"T_96221_row0_col6\" class=\"data row0 col6\" >34.00</td>\n",
       "      <td id=\"T_96221_row0_col7\" class=\"data row0 col7\" >1.00</td>\n",
       "      <td id=\"T_96221_row0_col8\" class=\"data row0 col8\" >3.51</td>\n",
       "      <td id=\"T_96221_row0_col9\" class=\"data row0 col9\" >0.56</td>\n",
       "      <td id=\"T_96221_row0_col10\" class=\"data row0 col10\" >9.40</td>\n",
       "      <td id=\"T_96221_row0_col11\" class=\"data row0 col11\" >5.00</td>\n",
       "    </tr>\n",
       "    <tr>\n",
       "      <th id=\"T_96221_level0_row1\" class=\"row_heading level0 row1\" >1</th>\n",
       "      <td id=\"T_96221_row1_col0\" class=\"data row1 col0\" >7.80</td>\n",
       "      <td id=\"T_96221_row1_col1\" class=\"data row1 col1\" >0.88</td>\n",
       "      <td id=\"T_96221_row1_col2\" class=\"data row1 col2\" >0.00</td>\n",
       "      <td id=\"T_96221_row1_col3\" class=\"data row1 col3\" >2.60</td>\n",
       "      <td id=\"T_96221_row1_col4\" class=\"data row1 col4\" >0.10</td>\n",
       "      <td id=\"T_96221_row1_col5\" class=\"data row1 col5\" >25.00</td>\n",
       "      <td id=\"T_96221_row1_col6\" class=\"data row1 col6\" >67.00</td>\n",
       "      <td id=\"T_96221_row1_col7\" class=\"data row1 col7\" >1.00</td>\n",
       "      <td id=\"T_96221_row1_col8\" class=\"data row1 col8\" >3.20</td>\n",
       "      <td id=\"T_96221_row1_col9\" class=\"data row1 col9\" >0.68</td>\n",
       "      <td id=\"T_96221_row1_col10\" class=\"data row1 col10\" >9.80</td>\n",
       "      <td id=\"T_96221_row1_col11\" class=\"data row1 col11\" >5.00</td>\n",
       "    </tr>\n",
       "    <tr>\n",
       "      <th id=\"T_96221_level0_row2\" class=\"row_heading level0 row2\" >2</th>\n",
       "      <td id=\"T_96221_row2_col0\" class=\"data row2 col0\" >7.80</td>\n",
       "      <td id=\"T_96221_row2_col1\" class=\"data row2 col1\" >0.76</td>\n",
       "      <td id=\"T_96221_row2_col2\" class=\"data row2 col2\" >0.04</td>\n",
       "      <td id=\"T_96221_row2_col3\" class=\"data row2 col3\" >2.30</td>\n",
       "      <td id=\"T_96221_row2_col4\" class=\"data row2 col4\" >0.09</td>\n",
       "      <td id=\"T_96221_row2_col5\" class=\"data row2 col5\" >15.00</td>\n",
       "      <td id=\"T_96221_row2_col6\" class=\"data row2 col6\" >54.00</td>\n",
       "      <td id=\"T_96221_row2_col7\" class=\"data row2 col7\" >1.00</td>\n",
       "      <td id=\"T_96221_row2_col8\" class=\"data row2 col8\" >3.26</td>\n",
       "      <td id=\"T_96221_row2_col9\" class=\"data row2 col9\" >0.65</td>\n",
       "      <td id=\"T_96221_row2_col10\" class=\"data row2 col10\" >9.80</td>\n",
       "      <td id=\"T_96221_row2_col11\" class=\"data row2 col11\" >5.00</td>\n",
       "    </tr>\n",
       "    <tr>\n",
       "      <th id=\"T_96221_level0_row3\" class=\"row_heading level0 row3\" >3</th>\n",
       "      <td id=\"T_96221_row3_col0\" class=\"data row3 col0\" >11.20</td>\n",
       "      <td id=\"T_96221_row3_col1\" class=\"data row3 col1\" >0.28</td>\n",
       "      <td id=\"T_96221_row3_col2\" class=\"data row3 col2\" >0.56</td>\n",
       "      <td id=\"T_96221_row3_col3\" class=\"data row3 col3\" >1.90</td>\n",
       "      <td id=\"T_96221_row3_col4\" class=\"data row3 col4\" >0.07</td>\n",
       "      <td id=\"T_96221_row3_col5\" class=\"data row3 col5\" >17.00</td>\n",
       "      <td id=\"T_96221_row3_col6\" class=\"data row3 col6\" >60.00</td>\n",
       "      <td id=\"T_96221_row3_col7\" class=\"data row3 col7\" >1.00</td>\n",
       "      <td id=\"T_96221_row3_col8\" class=\"data row3 col8\" >3.16</td>\n",
       "      <td id=\"T_96221_row3_col9\" class=\"data row3 col9\" >0.58</td>\n",
       "      <td id=\"T_96221_row3_col10\" class=\"data row3 col10\" >9.80</td>\n",
       "      <td id=\"T_96221_row3_col11\" class=\"data row3 col11\" >6.00</td>\n",
       "    </tr>\n",
       "    <tr>\n",
       "      <th id=\"T_96221_level0_row4\" class=\"row_heading level0 row4\" >4</th>\n",
       "      <td id=\"T_96221_row4_col0\" class=\"data row4 col0\" >7.40</td>\n",
       "      <td id=\"T_96221_row4_col1\" class=\"data row4 col1\" >0.70</td>\n",
       "      <td id=\"T_96221_row4_col2\" class=\"data row4 col2\" >0.00</td>\n",
       "      <td id=\"T_96221_row4_col3\" class=\"data row4 col3\" >1.90</td>\n",
       "      <td id=\"T_96221_row4_col4\" class=\"data row4 col4\" >0.08</td>\n",
       "      <td id=\"T_96221_row4_col5\" class=\"data row4 col5\" >11.00</td>\n",
       "      <td id=\"T_96221_row4_col6\" class=\"data row4 col6\" >34.00</td>\n",
       "      <td id=\"T_96221_row4_col7\" class=\"data row4 col7\" >1.00</td>\n",
       "      <td id=\"T_96221_row4_col8\" class=\"data row4 col8\" >3.51</td>\n",
       "      <td id=\"T_96221_row4_col9\" class=\"data row4 col9\" >0.56</td>\n",
       "      <td id=\"T_96221_row4_col10\" class=\"data row4 col10\" >9.40</td>\n",
       "      <td id=\"T_96221_row4_col11\" class=\"data row4 col11\" >5.00</td>\n",
       "    </tr>\n",
       "  </tbody>\n",
       "</table>\n"
      ],
      "text/plain": [
       "<pandas.io.formats.style.Styler at 0x7fa8407d07f0>"
      ]
     },
     "metadata": {},
     "output_type": "display_data"
    },
    {
     "name": "stdout",
     "output_type": "stream",
     "text": [
      "Missing Data: 0  Shape is: (1599, 12)\n"
     ]
    }
   ],
   "source": [
    "data = pd.read_csv('winequality-red.csv', header =0, sep=';')\n",
    "display(data.head(5).style.format(\"{0:.2f}\"))\n",
    "print ('Missing Data:',data.isna().sum().sum(), ' Shape is:', data.shape)"
   ]
  },
  {
   "cell_type": "markdown",
   "metadata": {},
   "source": [
    "# Step 3 - Preparing the data\n",
    "\n",
    "## 3.1 - Split data\n",
    "\n",
    "We will use 80% of the data for training and 20% for validation.\n",
    "x will be the data of the analysis and y the quality."
   ]
  },
  {
   "cell_type": "code",
   "execution_count": 8,
   "metadata": {},
   "outputs": [
    {
     "name": "stdout",
     "output_type": "stream",
     "text": [
      "Original data shape was: (1599, 12)\n",
      "x_train: (1279, 11)  y_train: (1279,)\n",
      "x_test: (320, 11)  y_test: (320,)\n"
     ]
    }
   ],
   "source": [
    "# ------ split => train, test\n",
    "data = data.sample(frac=1., axis=0)\n",
    "data_train = data.sample(frac=0.8, axis=0)\n",
    "data_test = data.drop(data_train.index)\n",
    "\n",
    "# ------ split => x, y (y is quality)\n",
    "x_train = data_train.drop('quality', axis=1)\n",
    "y_train = data_train['quality']\n",
    "x_test = data_test.drop('quality', axis=1)\n",
    "y_test = data_test['quality']\n",
    "\n",
    "print ('Original data shape was:', data.shape)\n",
    "print ('x_train:', x_train.shape, ' y_train:', y_train.shape)\n",
    "print ('x_test:', x_test.shape, ' y_test:', y_test.shape)"
   ]
  }
 ],
 "metadata": {
  "kernelspec": {
   "display_name": "Python 3",
   "language": "python",
   "name": "python3"
  },
  "language_info": {
   "codemirror_mode": {
    "name": "ipython",
    "version": 3
   },
   "file_extension": ".py",
   "mimetype": "text/x-python",
   "name": "python",
   "nbconvert_exporter": "python",
   "pygments_lexer": "ipython3",
   "version": "3.7.1"
  }
 },
 "nbformat": 4,
 "nbformat_minor": 2
}
